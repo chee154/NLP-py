{
 "cells": [
  {
   "cell_type": "markdown",
   "metadata": {},
   "source": [
    "### DS7337 NLP - HW 7\n",
    "#### David Wei"
   ]
  },
  {
   "cell_type": "markdown",
   "metadata": {},
   "source": [
    "# **Homework 7**\n",
    "\n",
    "Cluster the reviews that you collected in homework 5, by doing the following:\n",
    "1.\tIn Python, select any one of the clustering methods covered in this course. Run it over the collection of reviews, and show at least two different ways of clustering the reviews, e.g., changing k in k-Means clustering or changing where you “cut” in Agnes or Diana.  \n",
    "2.\tTry to write a short phrase to characterize (give a natural interpretation of) what each cluster is generally centered on semantically. Is this hard to do in some cases? If so, make note of that fact. \n",
    "3.\tExplain which of the two clustering results from question 1 is preferable (if one of them is), and why. \n",
    "\n"
   ]
  },
  {
   "cell_type": "code",
   "execution_count": 1,
   "metadata": {},
   "outputs": [],
   "source": [
    "# python\n",
    "import os\n",
    "import numpy as np\n",
    "import re\n",
    "import pandas as pd\n",
    "from tqdm import tqdm\n",
    "import string\n",
    "import warnings\n",
    "warnings.filterwarnings(\"ignore\")\n",
    "# viz & GUI\n",
    "from IPython.display import Image\n",
    "from IPython.core.display import HTML \n",
    "import matplotlib.pyplot as plt\n",
    "import seaborn as sns\n",
    "# sklearn\n",
    "from sklearn.preprocessing import minmax_scale\n",
    "from sklearn.feature_extraction.text import TfidfVectorizer\n",
    "from sklearn.cluster import KMeans"
   ]
  },
  {
   "cell_type": "markdown",
   "metadata": {},
   "source": [
    "# **Pre-Processing**\n",
    "#### Loading in IMDB Movie Review Data via .pkl (Pickle) File\n",
    "For how the pickled data was extracted, please refer to this the scraper code on [GitHub](https://github.com/chee154/NLP_study-py/blob/main/HW5_IMDB-Review-Scraper/DS7337%20NLP%20-%20HW%205%20-%20David%20Wei.ipynb). "
   ]
  },
  {
   "cell_type": "code",
   "execution_count": 2,
   "metadata": {},
   "outputs": [
    {
     "data": {
      "text/html": [
       "<div>\n",
       "<style scoped>\n",
       "    .dataframe tbody tr th:only-of-type {\n",
       "        vertical-align: middle;\n",
       "    }\n",
       "\n",
       "    .dataframe tbody tr th {\n",
       "        vertical-align: top;\n",
       "    }\n",
       "\n",
       "    .dataframe thead th {\n",
       "        text-align: right;\n",
       "    }\n",
       "</style>\n",
       "<table border=\"1\" class=\"dataframe\">\n",
       "  <thead>\n",
       "    <tr style=\"text-align: right;\">\n",
       "      <th></th>\n",
       "      <th>movie_title</th>\n",
       "      <th>movie_user_review_rating</th>\n",
       "      <th>movie_user_review_txt</th>\n",
       "    </tr>\n",
       "  </thead>\n",
       "  <tbody>\n",
       "    <tr>\n",
       "      <th>0</th>\n",
       "      <td>Ad Astra</td>\n",
       "      <td>8</td>\n",
       "      <td>Let me start off by saying that the movie's pa...</td>\n",
       "    </tr>\n",
       "    <tr>\n",
       "      <th>1</th>\n",
       "      <td>Alien</td>\n",
       "      <td>10</td>\n",
       "      <td>Alien is the pinnacle of sci-fi horror, and it...</td>\n",
       "    </tr>\n",
       "    <tr>\n",
       "      <th>2</th>\n",
       "      <td>Star Wars: Episode IV - A New Hope</td>\n",
       "      <td>10</td>\n",
       "      <td>I can never pick a favorite movie because diff...</td>\n",
       "    </tr>\n",
       "    <tr>\n",
       "      <th>3</th>\n",
       "      <td>12 Monkeys</td>\n",
       "      <td>9</td>\n",
       "      <td>Twelve Monkeys is a science fiction movie dire...</td>\n",
       "    </tr>\n",
       "    <tr>\n",
       "      <th>4</th>\n",
       "      <td>Dark City</td>\n",
       "      <td>9</td>\n",
       "      <td>simply wonderful on every level. A matrix meet...</td>\n",
       "    </tr>\n",
       "  </tbody>\n",
       "</table>\n",
       "</div>"
      ],
      "text/plain": [
       "                          movie_title movie_user_review_rating  \\\n",
       "0                            Ad Astra                        8   \n",
       "1                               Alien                       10   \n",
       "2  Star Wars: Episode IV - A New Hope                       10   \n",
       "3                          12 Monkeys                        9   \n",
       "4                           Dark City                        9   \n",
       "\n",
       "                               movie_user_review_txt  \n",
       "0  Let me start off by saying that the movie's pa...  \n",
       "1  Alien is the pinnacle of sci-fi horror, and it...  \n",
       "2  I can never pick a favorite movie because diff...  \n",
       "3  Twelve Monkeys is a science fiction movie dire...  \n",
       "4  simply wonderful on every level. A matrix meet...  "
      ]
     },
     "execution_count": 2,
     "metadata": {},
     "output_type": "execute_result"
    }
   ],
   "source": [
    "df = pd.read_pickle(\"HW5_IMDB_User_Review.pkl\")\n",
    "# remove the review_link\n",
    "df = df[df.columns[~df.columns.isin(['movie_user_review_link'])]]\n",
    "# print data\n",
    "df.head(5)"
   ]
  },
  {
   "cell_type": "markdown",
   "metadata": {},
   "source": [
    "#### Vectorizing the Reviews Text"
   ]
  },
  {
   "cell_type": "code",
   "execution_count": 4,
   "metadata": {},
   "outputs": [
    {
     "name": "stdout",
     "output_type": "stream",
     "text": [
      "(100, 5215)\n",
      "<class 'scipy.sparse.csr.csr_matrix'>\n"
     ]
    }
   ],
   "source": [
    "# get only the review from the dataframe\n",
    "df_reviews = df['movie_user_review_txt']\n",
    "# get the movie title\n",
    "movie_titles = list(df['movie_title'])\n",
    "# gets all the user reviews\n",
    "user_review_ratings = df['movie_user_review_rating']\n",
    "\n",
    "# init vectorizer\n",
    "vectorizer = TfidfVectorizer(strip_accents='ascii', lowercase=True)\n",
    "\n",
    "# vectorize\n",
    "tf_idf = vectorizer.fit_transform(df_reviews)\n",
    "print(tf_idf.shape)\n",
    "print(type(tf_idf))"
   ]
  },
  {
   "cell_type": "markdown",
   "metadata": {},
   "source": [
    "#### Converting Movie Review TF-IDF to Dataframe"
   ]
  },
  {
   "cell_type": "code",
   "execution_count": 5,
   "metadata": {},
   "outputs": [
    {
     "data": {
      "text/html": [
       "<div>\n",
       "<style scoped>\n",
       "    .dataframe tbody tr th:only-of-type {\n",
       "        vertical-align: middle;\n",
       "    }\n",
       "\n",
       "    .dataframe tbody tr th {\n",
       "        vertical-align: top;\n",
       "    }\n",
       "\n",
       "    .dataframe thead th {\n",
       "        text-align: right;\n",
       "    }\n",
       "</style>\n",
       "<table border=\"1\" class=\"dataframe\">\n",
       "  <thead>\n",
       "    <tr style=\"text-align: right;\">\n",
       "      <th></th>\n",
       "      <th>000</th>\n",
       "      <th>06</th>\n",
       "      <th>10</th>\n",
       "      <th>108</th>\n",
       "      <th>11</th>\n",
       "      <th>12</th>\n",
       "      <th>13</th>\n",
       "      <th>15</th>\n",
       "      <th>1500</th>\n",
       "      <th>16</th>\n",
       "      <th>...</th>\n",
       "      <th>yubb</th>\n",
       "      <th>zap</th>\n",
       "      <th>zaps</th>\n",
       "      <th>zed</th>\n",
       "      <th>zero</th>\n",
       "      <th>zimmer</th>\n",
       "      <th>zone</th>\n",
       "      <th>zoom</th>\n",
       "      <th>zooms</th>\n",
       "      <th>movie_user_review_rating</th>\n",
       "    </tr>\n",
       "  </thead>\n",
       "  <tbody>\n",
       "    <tr>\n",
       "      <th>0</th>\n",
       "      <td>0.0</td>\n",
       "      <td>0.0</td>\n",
       "      <td>0.000000</td>\n",
       "      <td>0.0</td>\n",
       "      <td>0.0</td>\n",
       "      <td>0.0</td>\n",
       "      <td>0.0</td>\n",
       "      <td>0.0</td>\n",
       "      <td>0.0</td>\n",
       "      <td>0.0</td>\n",
       "      <td>...</td>\n",
       "      <td>0.0</td>\n",
       "      <td>0.0</td>\n",
       "      <td>0.0</td>\n",
       "      <td>0.0</td>\n",
       "      <td>0.0</td>\n",
       "      <td>0.0</td>\n",
       "      <td>0.0</td>\n",
       "      <td>0.0</td>\n",
       "      <td>0.0</td>\n",
       "      <td>8</td>\n",
       "    </tr>\n",
       "    <tr>\n",
       "      <th>1</th>\n",
       "      <td>0.0</td>\n",
       "      <td>0.0</td>\n",
       "      <td>0.000000</td>\n",
       "      <td>0.0</td>\n",
       "      <td>0.0</td>\n",
       "      <td>0.0</td>\n",
       "      <td>0.0</td>\n",
       "      <td>0.0</td>\n",
       "      <td>0.0</td>\n",
       "      <td>0.0</td>\n",
       "      <td>...</td>\n",
       "      <td>0.0</td>\n",
       "      <td>0.0</td>\n",
       "      <td>0.0</td>\n",
       "      <td>0.0</td>\n",
       "      <td>0.0</td>\n",
       "      <td>0.0</td>\n",
       "      <td>0.0</td>\n",
       "      <td>0.0</td>\n",
       "      <td>0.0</td>\n",
       "      <td>10</td>\n",
       "    </tr>\n",
       "    <tr>\n",
       "      <th>2</th>\n",
       "      <td>0.0</td>\n",
       "      <td>0.0</td>\n",
       "      <td>0.092749</td>\n",
       "      <td>0.0</td>\n",
       "      <td>0.0</td>\n",
       "      <td>0.0</td>\n",
       "      <td>0.0</td>\n",
       "      <td>0.0</td>\n",
       "      <td>0.0</td>\n",
       "      <td>0.0</td>\n",
       "      <td>...</td>\n",
       "      <td>0.0</td>\n",
       "      <td>0.0</td>\n",
       "      <td>0.0</td>\n",
       "      <td>0.0</td>\n",
       "      <td>0.0</td>\n",
       "      <td>0.0</td>\n",
       "      <td>0.0</td>\n",
       "      <td>0.0</td>\n",
       "      <td>0.0</td>\n",
       "      <td>10</td>\n",
       "    </tr>\n",
       "    <tr>\n",
       "      <th>3</th>\n",
       "      <td>0.0</td>\n",
       "      <td>0.0</td>\n",
       "      <td>0.000000</td>\n",
       "      <td>0.0</td>\n",
       "      <td>0.0</td>\n",
       "      <td>0.0</td>\n",
       "      <td>0.0</td>\n",
       "      <td>0.0</td>\n",
       "      <td>0.0</td>\n",
       "      <td>0.0</td>\n",
       "      <td>...</td>\n",
       "      <td>0.0</td>\n",
       "      <td>0.0</td>\n",
       "      <td>0.0</td>\n",
       "      <td>0.0</td>\n",
       "      <td>0.0</td>\n",
       "      <td>0.0</td>\n",
       "      <td>0.0</td>\n",
       "      <td>0.0</td>\n",
       "      <td>0.0</td>\n",
       "      <td>9</td>\n",
       "    </tr>\n",
       "    <tr>\n",
       "      <th>4</th>\n",
       "      <td>0.0</td>\n",
       "      <td>0.0</td>\n",
       "      <td>0.000000</td>\n",
       "      <td>0.0</td>\n",
       "      <td>0.0</td>\n",
       "      <td>0.0</td>\n",
       "      <td>0.0</td>\n",
       "      <td>0.0</td>\n",
       "      <td>0.0</td>\n",
       "      <td>0.0</td>\n",
       "      <td>...</td>\n",
       "      <td>0.0</td>\n",
       "      <td>0.0</td>\n",
       "      <td>0.0</td>\n",
       "      <td>0.0</td>\n",
       "      <td>0.0</td>\n",
       "      <td>0.0</td>\n",
       "      <td>0.0</td>\n",
       "      <td>0.0</td>\n",
       "      <td>0.0</td>\n",
       "      <td>9</td>\n",
       "    </tr>\n",
       "  </tbody>\n",
       "</table>\n",
       "<p>5 rows × 5216 columns</p>\n",
       "</div>"
      ],
      "text/plain": [
       "   000   06        10  108   11   12   13   15  1500   16  ...  yubb  zap  \\\n",
       "0  0.0  0.0  0.000000  0.0  0.0  0.0  0.0  0.0   0.0  0.0  ...   0.0  0.0   \n",
       "1  0.0  0.0  0.000000  0.0  0.0  0.0  0.0  0.0   0.0  0.0  ...   0.0  0.0   \n",
       "2  0.0  0.0  0.092749  0.0  0.0  0.0  0.0  0.0   0.0  0.0  ...   0.0  0.0   \n",
       "3  0.0  0.0  0.000000  0.0  0.0  0.0  0.0  0.0   0.0  0.0  ...   0.0  0.0   \n",
       "4  0.0  0.0  0.000000  0.0  0.0  0.0  0.0  0.0   0.0  0.0  ...   0.0  0.0   \n",
       "\n",
       "   zaps  zed  zero  zimmer  zone  zoom  zooms  movie_user_review_rating  \n",
       "0   0.0  0.0   0.0     0.0   0.0   0.0    0.0                         8  \n",
       "1   0.0  0.0   0.0     0.0   0.0   0.0    0.0                        10  \n",
       "2   0.0  0.0   0.0     0.0   0.0   0.0    0.0                        10  \n",
       "3   0.0  0.0   0.0     0.0   0.0   0.0    0.0                         9  \n",
       "4   0.0  0.0   0.0     0.0   0.0   0.0    0.0                         9  \n",
       "\n",
       "[5 rows x 5216 columns]"
      ]
     },
     "execution_count": 5,
     "metadata": {},
     "output_type": "execute_result"
    }
   ],
   "source": [
    "def view_matrix(matrix, index_df):\n",
    "    # convert document-term matrix to array \n",
    "    tfidf_array = matrix.toarray()\n",
    "    # tokenize vectors to get the actual term (movie title) names\n",
    "    tokens = vectorizer.get_feature_names()\n",
    "\n",
    "    # doc_names = [f'book_{i+1}' for i, _ in enumerate(matrix)]\n",
    "    doc_names = [index_df[i] for i, _ in enumerate(tfidf_array)]\n",
    "    df = pd.DataFrame(data=tfidf_array, index=doc_names, columns=tokens)\n",
    "    return df\n",
    "\n",
    "##### creates tf-idf matrix df\n",
    "tfidf_df = view_matrix(tf_idf, movie_titles)\n",
    "tfidf_df.reset_index(drop=True, inplace=True)\n",
    "\n",
    "##### creates tf-idf matrix df with 'movie_user_review_rating'\n",
    "tfdf_review_df = pd.concat([tfidf_df, user_review_ratings],axis=1)\n",
    "tfdf_review_df.head(5)"
   ]
  },
  {
   "cell_type": "markdown",
   "metadata": {},
   "source": [
    "#### Reducing Sparse TF-IDF Matrix Dimensionality with LSA"
   ]
  },
  {
   "cell_type": "code",
   "execution_count": 11,
   "metadata": {},
   "outputs": [
    {
     "name": "stdout",
     "output_type": "stream",
     "text": [
      "(100, 2)\n"
     ]
    }
   ],
   "source": [
    "from sklearn.decomposition import TruncatedSVD\n",
    "from scipy import sparse as sp\n",
    "\n",
    "# init SVD LSA\n",
    "svd_clf = TruncatedSVD(n_components=2, n_iter=7, random_state=42)\n",
    "# store reduced dimension arrays\n",
    "X_lsa = svd_clf.fit_transform(tfidf_df)\n",
    "X_review_lsa = svd_clf.fit_transform(tfdf_review_df)\n",
    "print(X_lsa.shape)"
   ]
  },
  {
   "cell_type": "markdown",
   "metadata": {},
   "source": [
    "# **Centroid Based Clustering w/K-Means**"
   ]
  },
  {
   "cell_type": "markdown",
   "metadata": {},
   "source": [
    "### **Finding Optimal # of Clusters (k)**\n",
    "After plotting the Elbow Method for finding optimal K we can see that there isn't really a distinguishable 'elbow' since it is almost linear. However, upon examing closer, we can see that at k=4 and k=6 has *slight* changes in slope so we will cluster using the max being k=6. "
   ]
  },
  {
   "cell_type": "code",
   "execution_count": 13,
   "metadata": {},
   "outputs": [],
   "source": [
    "def find_optimal_clusters(data, max_k):\n",
    "    sse = []\n",
    "    k_range = range(1,max_k+1)\n",
    "    # get SSE for all cluster iterations\n",
    "    for k in k_range:\n",
    "        # init KMeans\n",
    "        km = KMeans(n_clusters=k, init='k-means++',random_state=42,n_init=10, max_iter=250)\n",
    "        km = km.fit(data)\n",
    "        sse.append(km.inertia_)\n",
    "    \n",
    "    # plot Elbow Curve\n",
    "    f, ax = plt.subplots(1, 1)\n",
    "    ax.plot(k_range, sse, marker='o')\n",
    "    ax.set_xlabel('Cluster Centers')\n",
    "    ax.set_xticks(k_range)\n",
    "    ax.set_xticklabels(k_range)\n",
    "    ax.set_ylabel('SSE')\n",
    "    ax.set_title('SSE by Cluster Center Plot')   "
   ]
  },
  {
   "cell_type": "code",
   "execution_count": 45,
   "metadata": {},
   "outputs": [
    {
     "data": {
      "image/png": "[encoded data removed]",
      "text/plain": [
       "<Figure size 432x288 with 1 Axes>"
      ]
     },
     "metadata": {
      "needs_background": "light"
     },
     "output_type": "display_data"
    },
    {
     "data": {
      "image/png": "[encoded data removed]",
      "text/plain": [
       "<Figure size 432x288 with 1 Axes>"
      ]
     },
     "metadata": {
      "needs_background": "light"
     },
     "output_type": "display_data"
    }
   ],
   "source": [
    "find_optimal_clusters(X_lsa, 21)\n",
    "find_optimal_clusters(X_review_lsa, 21)"
   ]
  },
  {
   "cell_type": "markdown",
   "metadata": {},
   "source": [
    "### **Scoring KMeans Clustering using Optimal K-Clusters (k=4)**\n",
    "\n",
    "To evaluate how well the optimzed KMeans clustering performs, we will utilize the *Silhouette Coefficient* which provides us a goodness of fit score between -1 to 1 based on the separability between clusters based on the distances between and within clusters. "
   ]
  },
  {
   "cell_type": "code",
   "execution_count": 88,
   "metadata": {},
   "outputs": [
    {
     "name": "stdout",
     "output_type": "stream",
     "text": [
      "----------With LSA Applied----------\n",
      "KMeans Silhouette Score (k=2): 0.38557\n",
      "KMeans Silhouette Score (k=4): 0.40557\n",
      "KMeans Silhouette Score (k=2): 0.80764\n",
      "\n",
      "----------Without LSA Applied----------\n",
      "KMeans Silhouette Score (k=4): 0.02421\n",
      "KMeans Silhouette Score (k=2): 0.72871\n"
     ]
    }
   ],
   "source": [
    "from sklearn.metrics import silhouette_score\n",
    "\n",
    "def kmeans_model(k, data):\n",
    "    optimal_k = k\n",
    "    kmeans = KMeans(n_clusters=optimal_k, init='k-means++',random_state=42,n_init=10, max_iter=250)\n",
    "    kmeans.fit(data)\n",
    "\n",
    "    kmeans_labels = kmeans.labels_\n",
    "    print(f'KMeans Silhouette Score (k={optimal_k}): {silhouette_score(data, kmeans_labels):.5f}')\n",
    "    return kmeans_labels\n",
    "\n",
    "print(f'{\"-\"*10}With LSA Applied{\"-\"*10}')\n",
    "#### without user review\n",
    "kmeans_1 = kmeans_model(2, X_lsa)\n",
    "kmeans_2 = kmeans_model(4, X_lsa)\n",
    "\n",
    "#### with user reviews\n",
    "kmeans_3 = kmeans_model(2, X_review_lsa)\n",
    "\n",
    "#### without dimensionality reduction\n",
    "print(f'\\n{\"-\"*10}Without LSA Applied{\"-\"*10}')\n",
    "kmeans_nolsa_1 = kmeans_model(4, (tfidf_df))\n",
    "kmeans_nolsa_2 = kmeans_model(2, (tfdf_review_df))"
   ]
  },
  {
   "cell_type": "markdown",
   "metadata": {},
   "source": [
    "### **Visualizing KMeans Clustering using Optimal K-Clusters (k=16) and LSA**"
   ]
  },
  {
   "cell_type": "code",
   "execution_count": 74,
   "metadata": {},
   "outputs": [
    {
     "data": {
      "text/plain": [
       "<AxesSubplot:>"
      ]
     },
     "execution_count": 74,
     "metadata": {},
     "output_type": "execute_result"
    },
    {
     "data": {
      "image/png": "[encoded data removed]",
      "text/plain": [
       "<Figure size 432x288 with 1 Axes>"
      ]
     },
     "metadata": {
      "needs_background": "light"
     },
     "output_type": "display_data"
    }
   ],
   "source": [
    "sns.scatterplot(x=X_lsa[:,0], y=X_lsa[:,1], hue=kmeans_2,palette=\"rainbow\")"
   ]
  },
  {
   "cell_type": "code",
   "execution_count": 75,
   "metadata": {},
   "outputs": [
    {
     "data": {
      "text/plain": [
       "<AxesSubplot:>"
      ]
     },
     "execution_count": 75,
     "metadata": {},
     "output_type": "execute_result"
    },
    {
     "data": {
      "image/png": "[encoded data removed]",
      "text/plain": [
       "<Figure size 432x288 with 1 Axes>"
      ]
     },
     "metadata": {
      "needs_background": "light"
     },
     "output_type": "display_data"
    }
   ],
   "source": [
    "sns.scatterplot(x=X_review_lsa[:,0], y=X_review_lsa[:,1], hue=kmeans_3,palette=\"rainbow\")"
   ]
  },
  {
   "cell_type": "markdown",
   "metadata": {},
   "source": [
    "# **Hierarchical Based Clustering w/Agglomerative Clustering**\n",
    "\n",
    "As a alternative clustering comparison method, we will utilize **AGNES** (Agglomerative Clustering) which is a bottom's up approach by starting with each movie review being a cluster of its own and then merging similar movie reviews into clusters.\n",
    "\n",
    "### **Sources**:\n",
    "* https://stackabuse.com/hierarchical-clustering-with-python-and-scikit-learn\n"
   ]
  },
  {
   "cell_type": "markdown",
   "metadata": {},
   "source": [
    "<a name=\"OptimalAGNES\"></a>\n",
    "### Finding Optimal Number of Clusters using Dendrogram Visualization\n",
    "The dendrogram graphs the sequences of merges or splits of clusters. If any clusters are merged, the dendrogram joins them in a graph and the height of the join is equal to the \"distance between clusters\". By looking at the results of the dendrogram, we can see when we cut the tree at the both the y=.35 (red dotted line) and y=.4 (solid blue) with a horizontal line, the difference in number of clusters is at either k=4 (y=.4) or k=5 (y=.35). Since cutting the dendrogram provides better separation using k=5, we will assume the optimal number of clusters in the hierarchical clustering AGNES based approachh is thus 5. "
   ]
  },
  {
   "cell_type": "code",
   "execution_count": 37,
   "metadata": {},
   "outputs": [
    {
     "data": {
      "image/png": "[encoded data removed]",
      "text/plain": [
       "<Figure size 720x504 with 1 Axes>"
      ]
     },
     "metadata": {
      "needs_background": "light"
     },
     "output_type": "display_data"
    }
   ],
   "source": [
    "import scipy.cluster.hierarchy as shc\n",
    "from scipy.cluster.hierarchy import linkage\n",
    "from scipy.cluster.hierarchy import dendrogram\n",
    "from scipy.cluster.hierarchy import cut_tree\n",
    "\n",
    "#plots dendrogram\n",
    "plt.figure(figsize=(10, 7))\n",
    "plt.title(\"Movie Review Dendograms w/out User Review Rating\")\n",
    "dendrogram(shc.linkage(X_lsa, method='ward'))\n",
    "plt.axhline(y=0.35, color='r', linestyle='--')\n",
    "plt.axhline(y=0.4, color='b', linestyle='-')\n",
    "plt.show()"
   ]
  },
  {
   "cell_type": "code",
   "execution_count": 41,
   "metadata": {},
   "outputs": [
    {
     "data": {
      "image/png": "[encoded data removed]",
      "text/plain": [
       "<Figure size 720x504 with 1 Axes>"
      ]
     },
     "metadata": {
      "needs_background": "light"
     },
     "output_type": "display_data"
    }
   ],
   "source": [
    "#plots dendrogram\n",
    "plt.figure(figsize=(10, 7))\n",
    "plt.title(\"Movie Review Dendograms w/User Review Rating\")\n",
    "dendrogram(shc.linkage(X_review_lsa, method='ward'))\n",
    "# plt.axhline(y=0.35, color='r', linestyle='--')\n",
    "plt.axhline(y=8, color='b', linestyle='-')\n",
    "plt.show()"
   ]
  },
  {
   "cell_type": "code",
   "execution_count": 90,
   "metadata": {},
   "outputs": [
    {
     "name": "stdout",
     "output_type": "stream",
     "text": [
      "----------With LSA Applied----------\n",
      "AGNES Silhouette Score (k=2): 0.37249\n",
      "AGNES Silhouette Score (k=5): 0.38147\n",
      "AGNES Silhouette Score (k=2): 0.80764\n",
      "\n",
      "----------Without LSA Applied----------\n",
      "AGNES Silhouette Score (k=5): 0.02048\n",
      "AGNES Silhouette Score (k=2): 0.72871\n"
     ]
    }
   ],
   "source": [
    "from sklearn.cluster import AgglomerativeClustering\n",
    "\n",
    "def agnes_model(k, data):\n",
    "    agnes_optimal_k = k\n",
    "    agnes_clf = AgglomerativeClustering(n_clusters=agnes_optimal_k, affinity='euclidean', linkage='ward')\n",
    "    agnes_clf.fit_predict(data)\n",
    "\n",
    "    agnes_label = agnes_clf.labels_\n",
    "    print(f'AGNES Silhouette Score (k={agnes_optimal_k}): {silhouette_score(data, agnes_clf.labels_):.5f}')\n",
    "    return agnes_label\n",
    "\n",
    "print(f'{\"-\"*10}With LSA Applied{\"-\"*10}')\n",
    "# without user review\n",
    "agnes_1 = agnes_model(2, X_lsa)\n",
    "agnes_2 = agnes_model(5, X_lsa)\n",
    "\n",
    "# with user reviews\n",
    "agnes_3 = agnes_model(2, X_review_lsa)\n",
    "\n",
    "#### without dimensionality reduction\n",
    "print(f'\\n{\"-\"*10}Without LSA Applied{\"-\"*10}')\n",
    "agnes_nolsa_1 = agnes_model(5, (tfidf_df))\n",
    "agnes_nolsa_2 = agnes_model(2, (tfdf_review_df))"
   ]
  },
  {
   "cell_type": "markdown",
   "metadata": {},
   "source": [
    "### **Visualizing AGNES Clustering using Optimal K-Clusters (k=5) and LSA**"
   ]
  },
  {
   "cell_type": "code",
   "execution_count": 78,
   "metadata": {},
   "outputs": [
    {
     "data": {
      "text/plain": [
       "<AxesSubplot:>"
      ]
     },
     "execution_count": 78,
     "metadata": {},
     "output_type": "execute_result"
    },
    {
     "data": {
      "image/png": "[encoded data removed]",
      "text/plain": [
       "<Figure size 432x288 with 1 Axes>"
      ]
     },
     "metadata": {
      "needs_background": "light"
     },
     "output_type": "display_data"
    }
   ],
   "source": [
    "sns.scatterplot(x=X_lsa[:,0], y=X_lsa[:,1], hue=agnes_2,palette=\"rainbow\")"
   ]
  },
  {
   "cell_type": "code",
   "execution_count": 82,
   "metadata": {},
   "outputs": [
    {
     "data": {
      "text/plain": [
       "<AxesSubplot:>"
      ]
     },
     "execution_count": 82,
     "metadata": {},
     "output_type": "execute_result"
    },
    {
     "data": {
      "image/png": "[encoded data removed]",
      "text/plain": [
       "<Figure size 432x288 with 1 Axes>"
      ]
     },
     "metadata": {
      "needs_background": "light"
     },
     "output_type": "display_data"
    }
   ],
   "source": [
    "sns.scatterplot(x=X_review_lsa[:,0], y=X_review_lsa[:,1], hue=agnes_3,palette=\"rainbow\")"
   ]
  },
  {
   "cell_type": "markdown",
   "metadata": {},
   "source": [
    "# **Conclusion**\n",
    "Using the overall silhouette_score as a measurement of cluster fit, we ran the following models and recorded the following scores below. We did this by running 2 optimized clustering models, KMeans and AGNES both with **user review ratings** and without it. Additionaly, for each level of cluster optimization, we ran the model with and without LSA reduction and can see how much of a difference it makes (refer to the 'Without LSA' sections in [Model Results](#ModelResults)). We also observed that by adding in the single user_review_ratings feature, the overall fit doubled. However, though the overall fit doubled by adding in the additional review feature, it came at the expense of reducing the optimal number of clusters. \n",
    "\n",
    "We can see this trade-off of cluster separation and number of clusters in the [Model Results](#ModelResults) section below where by first modeling the user review with only it's TF-IDF matrix, the max score using both KMEANS and AGNES was (.40557, .38147), respectively. However, simply by adding in the user review ratings, the max scores doubled for the exact same number of clusters (0.80764, 0.80764). Interestingly, at a much lower number of clusters, regardless of which model we used, the overall cluster separation was the same whether taking a Centroid or Heirarchical clustering approach. \n",
    "\n",
    "Overall, since the both model approaches at a lower number of clusters (k=2) were equal, **the KMEANS clustering model was the preferred approach** even though it performed only slightly better with only a fractional difference (0.0241). Additionally, the optimization method for KMEANS is a bit more methodical than arbitrarily cutting the dendrogram across it's tree as discussed in the [Optimizing AGNES](#OptimalAGNES) section where we found that the difference between the 'optimal' cluster was also, arbitrarily ambiguous. \n",
    "\n",
    "<a name=\"ModelResults\"></a>\n",
    "## **Model Results**\n",
    "* <u>**Without** User Review Ratings:</u>\n",
    "    * KMeans Silhouette Score (k=2): 0.38557\n",
    "    * KMeans Silhouette Score (k=4): 0.40557\n",
    "        * **Without LSA**: KMeans Silhouette Score (k=4): 0.02421\n",
    "    * AGNES Silhouette Score (k=2): 0.37249\n",
    "    * AGNES Silhouette Score (k=5): 0.38147\n",
    "        * **Without LSA**: AGNES Silhouette Score (k=5): 0.02048\n",
    "* <u>**With** User Review Ratings:</u>\n",
    "    * KMeans Silhouette Score (k=2): 0.80764\n",
    "        * **Without LSA**: KMeans Silhouette Score (k=2): 0.72871\n",
    "    * AGNES Silhouette Score (k=2): 0.80764\n",
    "        * **Without LSA**: AGNES Silhouette Score (k=2): 0.72871\n",
    "\n",
    "\n",
    "        \n"
   ]
  }
 ],
 "metadata": {
  "interpreter": {
   "hash": "3e05b179a6f1b3d43dc78f183e30163ca03b692d154be2549bbe3fabbd792f43"
  },
  "kernelspec": {
   "display_name": "Python 3",
   "language": "python",
   "name": "python3"
  },
  "language_info": {
   "codemirror_mode": {
    "name": "ipython",
    "version": 3
   },
   "file_extension": ".py",
   "mimetype": "text/x-python",
   "name": "python",
   "nbconvert_exporter": "python",
   "pygments_lexer": "ipython3",
   "version": "3.8.5"
  }
 },
 "nbformat": 4,
 "nbformat_minor": 2
}
