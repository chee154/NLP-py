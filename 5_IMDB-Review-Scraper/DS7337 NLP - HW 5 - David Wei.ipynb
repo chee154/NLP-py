{
 "metadata": {
  "language_info": {
   "codemirror_mode": {
    "name": "ipython",
    "version": 3
   },
   "file_extension": ".py",
   "mimetype": "text/x-python",
   "name": "python",
   "nbconvert_exporter": "python",
   "pygments_lexer": "ipython3",
   "version": "3.8.5"
  },
  "orig_nbformat": 4,
  "kernelspec": {
   "name": "python3",
   "display_name": "Python 3.8.5 64-bit ('base': conda)"
  },
  "interpreter": {
   "hash": "3e05b179a6f1b3d43dc78f183e30163ca03b692d154be2549bbe3fabbd792f43"
  }
 },
 "nbformat": 4,
 "nbformat_minor": 2,
 "cells": [
  {
   "source": [
    "### DS7337 NLP - HW 5\n",
    "#### David Wei"
   ],
   "cell_type": "markdown",
   "metadata": {}
  },
  {
   "source": [
    "# Homework 5\n",
    "\n",
    "<u>**HW 5:**</u>\n",
    "\n",
    "1.\tCompile a list of static links (permalinks) to individual user movie reviews from one particular website. This will be your working dataset for this assignment, as well as for assignments 7 and 8, which together will make up your semester project.   \n",
    "\n",
    "    - a. It does not matter if you use a crawler or if you manually collect the links, but you will need at least 100 movie review links. Note that, as of this writing, the robots.txt file of IMDB.com allows the crawling of user reviews.\n",
    "    - b. Each link should be to a web page that has only one user review of only one movie, e.g., the user review permalinks on the IMDB site.\n",
    "    - c. Choose reviews of movies that are all in the same genre, e.g., sci-fi, mystery, romance, superhero, etc.  \n",
    "    - d.\tMake sure your collection includes reviews of several movies in your chosen genre and that it includes a mix of negative and positive reviews.  \n",
    "\n",
    "2.\tExtract noun phrase (NP) chunks from your reviews using the following procedure:\n",
    "    - a.\tIn Python, use BeautifulSoup to grab the main review text from each link.  \n",
    "    - b.\tNext run each review text through a tokenizer, and then try to NP-chunk it with a shallow parser. \n",
    "    - c.\tYou probably will have too many unknown words, owing to proper names of characters, actors, and so on that are not in your working dictionary. Make sure the main names that are relevant to the movies in your collection of reviews are added to the working lexicon, and then run the NP chunker again.\n",
    "\n",
    "3.\tOutput all the chunks in a single list for each review, and submit that output for this assignment. Also submit a brief written summary of what you did (describe your selection of genre, your source of reviews, how many you collected, and by what means).\n",
    "\n",
    "\n"
   ],
   "cell_type": "markdown",
   "metadata": {}
  },
  {
   "source": [
    "# Final Output & Analysis\n",
    "### <u>Introduction:</u>\n",
    "In this exercise, I will be scraping IMDB movies to collect the movie data such as it's title, ratings and most importantly, the user reviews. \n",
    "\n",
    "### <u>Data Source:</u>\n",
    "As a huge fan of the Sci-Fi movie genre, I decided to collect the Top 100 Sci-Fi movies that a [user curated together](https://www.imdb.com/list/ls026827286/?sort=list_order,asc&st_dt=&mode=simple&page=1&ref_=ttls_vw_smp). I chose **not** to use IMDB's list of 'top movies as the user curated list has not only identical HTML elements, but contains exactly 100 movies on one page whereas the default ['Top Movies'](https://www.imdb.com/search/title/?title_type=feature&num_votes=25000,&genres=sci-fi&view=simple) page shows only 50 by default. \n",
    "\n",
    "### <u>Collection Methods:</u>\n",
    "The scraping process for extracting these movie metadata out of IMDB's website really boils down to 3 steps detailed below:\n",
    "- 1. **Extracting the list of Movie URLs**: Using the BeautifulSoup library, the URL to the user curated list of 100 top sci-fi movies was fed in and then looped to extract IMDB's individual movie links.  \n",
    "- 2. **Using Movie URLs to get Review URL**: Once every movie's URL page was stored into memory, that list of URL was then re-fed into another loop that pulled each movie's review page URL. Luckily, no browser-automation (ex. Selenium) was required to extract each link as not only the HTML element was consistent across all movie URLs but the location of the review was a HTML page in itself labeled as 'reviews'.   \n",
    "\n",
    "    For example if the movie URL for the movie 'Alien' was _(home url)/title/tt0078748/_, the the review page for that movie would simply be _(home url)/title/tt0078748/reviews_. However, the next challenge was that the /review/ page only provided us a page of ALL user reviews and so to extract each individual user review, each review page was fed into another loop to extract each user review's permalink. \n",
    "- 3. **Using the Review URLs to scrape the review text**: Once we were able to get a list of user reviews per movie and their respective rating, there was a business case to only have 1 review per movie and so we randomlly selected one of the reviews from a list of reviews. After each movie was then associated to 1 random review permalink, extracting the actual review for was as simple as pulling the tag's text using (tag.text).  \n",
    "\n",
    "### <u>Helpful Resources:</u>\n",
    "https://towardsdatascience.com/chunking-in-nlp-decoded-b4a71b2b4e24<br>\n",
    "https://www.bogotobogo.com/python/NLTK/chunking_NLTK.php<br>\n",
    "https://spacy.io/usage/linguistic-features\n",
    "\n",
    "### <u>Final Output (below):</u>"
   ],
   "cell_type": "markdown",
   "metadata": {}
  },
  {
   "cell_type": "code",
   "execution_count": 13,
   "metadata": {},
   "outputs": [
    {
     "output_type": "execute_result",
     "data": {
      "text/plain": [
       "                           movie_title  \\\n",
       "0                             Ad Astra   \n",
       "1                                Alien   \n",
       "2   Star Wars: Episode IV - A New Hope   \n",
       "3                           12 Monkeys   \n",
       "4                            Dark City   \n",
       "..                                 ...   \n",
       "95                         Source Code   \n",
       "96                            eXistenZ   \n",
       "97  Close Encounters of the Third Kind   \n",
       "98                   Avengers: Endgame   \n",
       "99              Avengers: Infinity War   \n",
       "\n",
       "                     movie_user_review_link movie_user_review_rating  \\\n",
       "0   https://www.imdb.com//review/rw5142538/                        8   \n",
       "1   https://www.imdb.com//review/rw5194668/                       10   \n",
       "2   https://www.imdb.com//review/rw0156284/                       10   \n",
       "3   https://www.imdb.com//review/rw5718067/                        9   \n",
       "4   https://www.imdb.com//review/rw2127758/                        9   \n",
       "..                                      ...                      ...   \n",
       "95  https://www.imdb.com//review/rw2406572/                        8   \n",
       "96  https://www.imdb.com//review/rw2480683/                        1   \n",
       "97  https://www.imdb.com//review/rw0152366/                        1   \n",
       "98  https://www.imdb.com//review/rw4953817/                        1   \n",
       "99  https://www.imdb.com//review/rw4284818/                       10   \n",
       "\n",
       "                                movie_user_review_txt  \\\n",
       "0   Let me start off by saying that the movie's pa...   \n",
       "1   Alien is the pinnacle of sci-fi horror, and it...   \n",
       "2   I can never pick a favorite movie because diff...   \n",
       "3   Twelve Monkeys is a science fiction movie dire...   \n",
       "4   simply wonderful on every level. A matrix meet...   \n",
       "..                                                ...   \n",
       "95  I was looking forward to seeing \" Source Code ...   \n",
       "96  one bored Sunday afternoon i thought i would b...   \n",
       "97  * 1/2 star out of ****Keep in mind Steven Spie...   \n",
       "98  I was so EXCITED to see this movie. After I sa...   \n",
       "99  This movie is the beginning of the culmination...   \n",
       "\n",
       "                                   movie_noun_phrases  \n",
       "0   [me, the movie's pacing, the pacing, Interstel...  \n",
       "1   [Alien, the pinnacle, sci-fi horror, it, the s...  \n",
       "2   [I, a favorite movie, different movies, differ...  \n",
       "3   [Twelve Monkeys, a science fiction movie, Terr...  \n",
       "4   [every level, A matrix, Truman, you, the film,...  \n",
       "..                                                ...  \n",
       "95  [I, Source Code, I, the 1st trailer, I, it, an...  \n",
       "96  [i, i, a film, the time, eXistenZ, I, I, its c...  \n",
       "97  [* 1/2 star, mind, Steven Spielberg, my all-ti...  \n",
       "98  [I, this movie, I, it, I, WhAT A PIECE, GARBAG...  \n",
       "99  [This movie, the beginning, the culmination, M...  \n",
       "\n",
       "[100 rows x 5 columns]"
      ],
      "text/html": "<div>\n<style scoped>\n    .dataframe tbody tr th:only-of-type {\n        vertical-align: middle;\n    }\n\n    .dataframe tbody tr th {\n        vertical-align: top;\n    }\n\n    .dataframe thead th {\n        text-align: right;\n    }\n</style>\n<table border=\"1\" class=\"dataframe\">\n  <thead>\n    <tr style=\"text-align: right;\">\n      <th></th>\n      <th>movie_title</th>\n      <th>movie_user_review_link</th>\n      <th>movie_user_review_rating</th>\n      <th>movie_user_review_txt</th>\n      <th>movie_noun_phrases</th>\n    </tr>\n  </thead>\n  <tbody>\n    <tr>\n      <th>0</th>\n      <td>Ad Astra</td>\n      <td>https://www.imdb.com//review/rw5142538/</td>\n      <td>8</td>\n      <td>Let me start off by saying that the movie's pa...</td>\n      <td>[me, the movie's pacing, the pacing, Interstel...</td>\n    </tr>\n    <tr>\n      <th>1</th>\n      <td>Alien</td>\n      <td>https://www.imdb.com//review/rw5194668/</td>\n      <td>10</td>\n      <td>Alien is the pinnacle of sci-fi horror, and it...</td>\n      <td>[Alien, the pinnacle, sci-fi horror, it, the s...</td>\n    </tr>\n    <tr>\n      <th>2</th>\n      <td>Star Wars: Episode IV - A New Hope</td>\n      <td>https://www.imdb.com//review/rw0156284/</td>\n      <td>10</td>\n      <td>I can never pick a favorite movie because diff...</td>\n      <td>[I, a favorite movie, different movies, differ...</td>\n    </tr>\n    <tr>\n      <th>3</th>\n      <td>12 Monkeys</td>\n      <td>https://www.imdb.com//review/rw5718067/</td>\n      <td>9</td>\n      <td>Twelve Monkeys is a science fiction movie dire...</td>\n      <td>[Twelve Monkeys, a science fiction movie, Terr...</td>\n    </tr>\n    <tr>\n      <th>4</th>\n      <td>Dark City</td>\n      <td>https://www.imdb.com//review/rw2127758/</td>\n      <td>9</td>\n      <td>simply wonderful on every level. A matrix meet...</td>\n      <td>[every level, A matrix, Truman, you, the film,...</td>\n    </tr>\n    <tr>\n      <th>...</th>\n      <td>...</td>\n      <td>...</td>\n      <td>...</td>\n      <td>...</td>\n      <td>...</td>\n    </tr>\n    <tr>\n      <th>95</th>\n      <td>Source Code</td>\n      <td>https://www.imdb.com//review/rw2406572/</td>\n      <td>8</td>\n      <td>I was looking forward to seeing \" Source Code ...</td>\n      <td>[I, Source Code, I, the 1st trailer, I, it, an...</td>\n    </tr>\n    <tr>\n      <th>96</th>\n      <td>eXistenZ</td>\n      <td>https://www.imdb.com//review/rw2480683/</td>\n      <td>1</td>\n      <td>one bored Sunday afternoon i thought i would b...</td>\n      <td>[i, i, a film, the time, eXistenZ, I, I, its c...</td>\n    </tr>\n    <tr>\n      <th>97</th>\n      <td>Close Encounters of the Third Kind</td>\n      <td>https://www.imdb.com//review/rw0152366/</td>\n      <td>1</td>\n      <td>* 1/2 star out of ****Keep in mind Steven Spie...</td>\n      <td>[* 1/2 star, mind, Steven Spielberg, my all-ti...</td>\n    </tr>\n    <tr>\n      <th>98</th>\n      <td>Avengers: Endgame</td>\n      <td>https://www.imdb.com//review/rw4953817/</td>\n      <td>1</td>\n      <td>I was so EXCITED to see this movie. After I sa...</td>\n      <td>[I, this movie, I, it, I, WhAT A PIECE, GARBAG...</td>\n    </tr>\n    <tr>\n      <th>99</th>\n      <td>Avengers: Infinity War</td>\n      <td>https://www.imdb.com//review/rw4284818/</td>\n      <td>10</td>\n      <td>This movie is the beginning of the culmination...</td>\n      <td>[This movie, the beginning, the culmination, M...</td>\n    </tr>\n  </tbody>\n</table>\n<p>100 rows × 5 columns</p>\n</div>"
     },
     "metadata": {},
     "execution_count": 13
    }
   ],
   "source": [
    "# df"
   ]
  },
  {
   "cell_type": "code",
   "execution_count": 4,
   "metadata": {},
   "outputs": [],
   "source": [
    "# !pip install rotten-tomatoes-scraper'\n",
    "# !pip install urllib3\n",
    "# !pip install selenium\n",
    "# !pip install tk\n",
    "# !pip install pattern"
   ]
  },
  {
   "cell_type": "code",
   "execution_count": 5,
   "metadata": {},
   "outputs": [],
   "source": [
    "# python\n",
    "import os\n",
    "import numpy as np\n",
    "import time\n",
    "import re\n",
    "import pandas as pd\n",
    "from tqdm import tqdm\n",
    "import random\n",
    "import string\n",
    "# nltk\n",
    "import nltk\n",
    "from nltk.tokenize import RegexpTokenizer\n",
    "from nltk.corpus import stopwords\n",
    "from nltk.tokenize import word_tokenize\n",
    "from nltk.tokenize import ToktokTokenizer\n",
    "from nltk.tokenize import TweetTokenizer\n",
    "from nltk.stem import PorterStemmer\n",
    "from nltk.corpus import stopwords\n",
    "from nltk.chunk.util import tree2conlltags,conlltags2tree\n",
    "# spaCy\n",
    "from spacy.tokenizer import Tokenizer\n",
    "from spacy.lang.en import English\n",
    "# nltk corpus\n",
    "from nltk.corpus import brown\n",
    "# POS taggers\n",
    "from textblob import TextBlob\n",
    "import spacy\n",
    "# viz & GUI\n",
    "from IPython.display import Image\n",
    "from IPython.core.display import HTML \n",
    "import matplotlib as plt\n",
    "# sklearn\n",
    "from sklearn.preprocessing import minmax_scale\n",
    "# web scraping\n",
    "import requests\n",
    "import urllib3\n",
    "from bs4 import BeautifulSoup\n",
    "from string import punctuation\n",
    "from selenium import webdriver\n",
    "from selenium.webdriver.common.keys import Keys"
   ]
  },
  {
   "source": [
    "## Extract Top 100 Science Fiction & Fantasty Movies from IMDB"
   ],
   "cell_type": "markdown",
   "metadata": {}
  },
  {
   "cell_type": "code",
   "execution_count": 6,
   "metadata": {},
   "outputs": [
    {
     "output_type": "stream",
     "name": "stdout",
     "text": [
      "Total # of (Movies, Movie Names): 100,100\nExample Movie Links: ['https://www.imdb.com//title/tt2935510/', 'https://www.imdb.com//title/tt0078748/']\nExample Movies Names: ['Ad Astra', 'Alien']\n"
     ]
    }
   ],
   "source": [
    "top_100_url = 'https://www.imdb.com/list/ls026827286/?sort=list_order,asc&st_dt=&mode=simple&page=1&ref_=ttls_vw_smp'\n",
    "base_url = 'https://www.imdb.com/'\n",
    "\n",
    "def get_soup(url):\n",
    "    # Creating a PoolManager instance for sending requests.\n",
    "    http = urllib3.PoolManager()\n",
    "    # Sending a GET request and getting back response as HTTPResponse object.\n",
    "    resp = http.request(\"GET\", url)\n",
    "    soup = BeautifulSoup(resp.data, 'html.parser')\n",
    "    return soup\n",
    "\n",
    "# gets the list of movies\n",
    "table = get_soup(top_100_url).find(class_= 'lister-list')\n",
    "# gets all individual movies\n",
    "rows = table.find_all(class_= 'lister-item mode-simple')\n",
    "\n",
    "# # looping through every individual movie tag to get its url\n",
    "movie_links = []\n",
    "movie_name = []\n",
    "for i in rows:\n",
    "    # gets the link to movie\n",
    "    link = i.find('a').get('href')\n",
    "    # gets the movie name\n",
    "    title = i.find('img', alt=True).get('alt')\n",
    "    full_url = base_url+link\n",
    "\n",
    "    movie_links.append(full_url)\n",
    "    movie_name.append(title)\n",
    "\n",
    "# test number of movies in list == 100\n",
    "print('Total # of (Movies, Movie Names): '+str(len(movie_links))+','+str(len(movie_name)))\n",
    "print('Example Movie Links: '+str(movie_links[0:2]))\n",
    "print('Example Movies Names: '+str(movie_name[0:2]))"
   ]
  },
  {
   "source": [
    "## Extract User Review Links and Ratings per Movie\n"
   ],
   "cell_type": "markdown",
   "metadata": {}
  },
  {
   "cell_type": "code",
   "execution_count": 7,
   "metadata": {},
   "outputs": [
    {
     "output_type": "stream",
     "name": "stderr",
     "text": [
      "100%|██████████| 100/100 [00:49<00:00,  2.03it/s]Total # of (review links, review ratings): 100,100\n",
      "Example user_review_url: ['https://www.imdb.com//review/rw5142538/', 'https://www.imdb.com//review/rw5194668/']\n",
      "Example user_rating: ['8', '10']\n",
      "\n"
     ]
    }
   ],
   "source": [
    "# test_movie_links = movie_links[0:5]\n",
    "user_review_url = []\n",
    "user_rating = []\n",
    "\n",
    "for i in tqdm(movie_links):\n",
    "\n",
    "    full_movie_review_link = i + 'reviews'\n",
    "    reviews_soup = get_soup(full_movie_review_link)\n",
    "\n",
    "    ########### loops to get review_links ###########\n",
    "    num_review = 0 # counting # of reviews per nmovie\n",
    "    user_review_url_temp = [] # stores a temp list of review per movie\n",
    "    for j in reviews_soup.find_all('a', attrs={'class': 'title'}):\n",
    "        num_review += 1\n",
    "        full_user_review = base_url+j['href']\n",
    "        user_review_url_temp.append(full_user_review)\n",
    "\n",
    "    # grabs random review from list of review\n",
    "    random_number= random.randint(1,num_review) # used to get a random review back\n",
    "\n",
    "    ########### loops to get review ratings ###########\n",
    "    user_rating_temp = [] # stores a temp list of review ratings\n",
    "    for i in reviews_soup.find_all(class_ ='review-container'):\n",
    "        # validate if the review has a rating or not\n",
    "        if i.find(class_ ='ipl-ratings-bar'):\n",
    "            # extract rating if class exists\n",
    "            for j in i.find('span', attrs={'class': None}):\n",
    "                rating = str(j)\n",
    "                user_rating_temp.append(rating)\n",
    "        # default rating to '0' if no rating exist\n",
    "        else: \n",
    "            user_rating_temp.append('0')\n",
    "\n",
    "     ########### append results to list ###########\n",
    "    # appends to total review\n",
    "    user_review_url.append(user_review_url_temp[random_number-1]) #\n",
    "\n",
    "    # appends to total review\n",
    "    user_rating.append(user_rating_temp[random_number-1])\n",
    "\n",
    "print('Total # of (review links, review ratings): '+str(len(user_review_url))+','+str(len(user_rating)))\n",
    "print('Example user_review_url: '+str(user_review_url[0:2]))\n",
    "print('Example user_rating: '+str(user_rating[0:2]))"
   ]
  },
  {
   "source": [
    "## Extract User Reviews (text) per Movie"
   ],
   "cell_type": "markdown",
   "metadata": {}
  },
  {
   "cell_type": "code",
   "execution_count": 8,
   "metadata": {},
   "outputs": [
    {
     "output_type": "stream",
     "name": "stderr",
     "text": [
      "100%|██████████| 100/100 [00:36<00:00,  2.77it/s]\n"
     ]
    }
   ],
   "source": [
    "# test_user_review_url = user_review_url[0:50]\n",
    "\n",
    "user_review_text = []\n",
    "for i in tqdm(user_review_url):\n",
    "    review_text_soup = get_soup(i)\n",
    "\n",
    "    for j in review_text_soup.find_all(class_ = 'text show-more__control'):\n",
    "        text = j.text\n",
    "        user_review_text.append(text)\n"
   ]
  },
  {
   "source": [
    "### Consolidate all the movie elements: title, review link, review rating, review"
   ],
   "cell_type": "markdown",
   "metadata": {}
  },
  {
   "source": [
    "# convert all data lists to series\n",
    "movie_links_series = pd.Series(movie_links)\n",
    "movie_name_series = pd.Series(movie_name)\n",
    "user_review_url_series = pd.Series(user_review_url)\n",
    "user_rating_series = pd.Series(user_rating)\n",
    "user_review_text_series = pd.Series(user_review_text)\n",
    "\n",
    "# consolidate all series to dataframe\n",
    "df = pd.DataFrame(\n",
    "    {\n",
    "        \"movie_title\": movie_name_series,\n",
    "        \"movie_user_review_link\": user_review_url_series,\n",
    "        \"movie_user_review_rating\": user_rating_series,\n",
    "        \"movie_user_review_txt\": user_review_text_series\n",
    "    })\n",
    "\n",
    "print(df.info())\n",
    "\n",
    "# saving dataframe to pickle to prevent running everything again\n",
    "df.to_pickle('HW5_IMDB_User_Review.pkl')"
   ],
   "cell_type": "code",
   "metadata": {},
   "execution_count": 9,
   "outputs": [
    {
     "output_type": "stream",
     "name": "stdout",
     "text": [
      "<class 'pandas.core.frame.DataFrame'>\nRangeIndex: 100 entries, 0 to 99\nData columns (total 4 columns):\n #   Column                    Non-Null Count  Dtype \n---  ------                    --------------  ----- \n 0   movie_title               100 non-null    object\n 1   movie_user_review_link    100 non-null    object\n 2   movie_user_review_rating  100 non-null    object\n 3   movie_user_review_txt     100 non-null    object\ndtypes: object(4)\nmemory usage: 3.2+ KB\nNone\n"
     ]
    }
   ]
  },
  {
   "cell_type": "code",
   "execution_count": 10,
   "metadata": {},
   "outputs": [
    {
     "output_type": "execute_result",
     "data": {
      "text/plain": [
       "                           movie_title  \\\n",
       "0                             Ad Astra   \n",
       "1                                Alien   \n",
       "2   Star Wars: Episode IV - A New Hope   \n",
       "3                           12 Monkeys   \n",
       "4                            Dark City   \n",
       "..                                 ...   \n",
       "95                         Source Code   \n",
       "96                            eXistenZ   \n",
       "97  Close Encounters of the Third Kind   \n",
       "98                   Avengers: Endgame   \n",
       "99              Avengers: Infinity War   \n",
       "\n",
       "                     movie_user_review_link movie_user_review_rating  \\\n",
       "0   https://www.imdb.com//review/rw5142538/                        8   \n",
       "1   https://www.imdb.com//review/rw5194668/                       10   \n",
       "2   https://www.imdb.com//review/rw0156284/                       10   \n",
       "3   https://www.imdb.com//review/rw5718067/                        9   \n",
       "4   https://www.imdb.com//review/rw2127758/                        9   \n",
       "..                                      ...                      ...   \n",
       "95  https://www.imdb.com//review/rw2406572/                        8   \n",
       "96  https://www.imdb.com//review/rw2480683/                        1   \n",
       "97  https://www.imdb.com//review/rw0152366/                        1   \n",
       "98  https://www.imdb.com//review/rw4953817/                        1   \n",
       "99  https://www.imdb.com//review/rw4284818/                       10   \n",
       "\n",
       "                                movie_user_review_txt  \n",
       "0   Let me start off by saying that the movie's pa...  \n",
       "1   Alien is the pinnacle of sci-fi horror, and it...  \n",
       "2   I can never pick a favorite movie because diff...  \n",
       "3   Twelve Monkeys is a science fiction movie dire...  \n",
       "4   simply wonderful on every level. A matrix meet...  \n",
       "..                                                ...  \n",
       "95  I was looking forward to seeing \" Source Code ...  \n",
       "96  one bored Sunday afternoon i thought i would b...  \n",
       "97  * 1/2 star out of ****Keep in mind Steven Spie...  \n",
       "98  I was so EXCITED to see this movie. After I sa...  \n",
       "99  This movie is the beginning of the culmination...  \n",
       "\n",
       "[100 rows x 4 columns]"
      ],
      "text/html": "<div>\n<style scoped>\n    .dataframe tbody tr th:only-of-type {\n        vertical-align: middle;\n    }\n\n    .dataframe tbody tr th {\n        vertical-align: top;\n    }\n\n    .dataframe thead th {\n        text-align: right;\n    }\n</style>\n<table border=\"1\" class=\"dataframe\">\n  <thead>\n    <tr style=\"text-align: right;\">\n      <th></th>\n      <th>movie_title</th>\n      <th>movie_user_review_link</th>\n      <th>movie_user_review_rating</th>\n      <th>movie_user_review_txt</th>\n    </tr>\n  </thead>\n  <tbody>\n    <tr>\n      <th>0</th>\n      <td>Ad Astra</td>\n      <td>https://www.imdb.com//review/rw5142538/</td>\n      <td>8</td>\n      <td>Let me start off by saying that the movie's pa...</td>\n    </tr>\n    <tr>\n      <th>1</th>\n      <td>Alien</td>\n      <td>https://www.imdb.com//review/rw5194668/</td>\n      <td>10</td>\n      <td>Alien is the pinnacle of sci-fi horror, and it...</td>\n    </tr>\n    <tr>\n      <th>2</th>\n      <td>Star Wars: Episode IV - A New Hope</td>\n      <td>https://www.imdb.com//review/rw0156284/</td>\n      <td>10</td>\n      <td>I can never pick a favorite movie because diff...</td>\n    </tr>\n    <tr>\n      <th>3</th>\n      <td>12 Monkeys</td>\n      <td>https://www.imdb.com//review/rw5718067/</td>\n      <td>9</td>\n      <td>Twelve Monkeys is a science fiction movie dire...</td>\n    </tr>\n    <tr>\n      <th>4</th>\n      <td>Dark City</td>\n      <td>https://www.imdb.com//review/rw2127758/</td>\n      <td>9</td>\n      <td>simply wonderful on every level. A matrix meet...</td>\n    </tr>\n    <tr>\n      <th>...</th>\n      <td>...</td>\n      <td>...</td>\n      <td>...</td>\n      <td>...</td>\n    </tr>\n    <tr>\n      <th>95</th>\n      <td>Source Code</td>\n      <td>https://www.imdb.com//review/rw2406572/</td>\n      <td>8</td>\n      <td>I was looking forward to seeing \" Source Code ...</td>\n    </tr>\n    <tr>\n      <th>96</th>\n      <td>eXistenZ</td>\n      <td>https://www.imdb.com//review/rw2480683/</td>\n      <td>1</td>\n      <td>one bored Sunday afternoon i thought i would b...</td>\n    </tr>\n    <tr>\n      <th>97</th>\n      <td>Close Encounters of the Third Kind</td>\n      <td>https://www.imdb.com//review/rw0152366/</td>\n      <td>1</td>\n      <td>* 1/2 star out of ****Keep in mind Steven Spie...</td>\n    </tr>\n    <tr>\n      <th>98</th>\n      <td>Avengers: Endgame</td>\n      <td>https://www.imdb.com//review/rw4953817/</td>\n      <td>1</td>\n      <td>I was so EXCITED to see this movie. After I sa...</td>\n    </tr>\n    <tr>\n      <th>99</th>\n      <td>Avengers: Infinity War</td>\n      <td>https://www.imdb.com//review/rw4284818/</td>\n      <td>10</td>\n      <td>This movie is the beginning of the culmination...</td>\n    </tr>\n  </tbody>\n</table>\n<p>100 rows × 4 columns</p>\n</div>"
     },
     "metadata": {},
     "execution_count": 10
    }
   ],
   "source": [
    "df = pd.read_pickle(\"HW5_IMDB_User_Review.pkl\")\n",
    "df"
   ]
  },
  {
   "source": [
    "## Extract Noun Phrase (NP) chunks from reviews"
   ],
   "cell_type": "markdown",
   "metadata": {}
  },
  {
   "cell_type": "code",
   "execution_count": 11,
   "metadata": {},
   "outputs": [],
   "source": [
    "def normalize_text(text):\n",
    "    # lowercase all text\n",
    "    text_normalized = text.lower()\n",
    "\n",
    "    ########## 0. Tokenization ##########\n",
    "    '''\n",
    "    [0] returns a tokenized list of words\n",
    "    '''\n",
    "    # tokenize the text using TokTok since it's the fastest tokenizer available:\n",
    "    ### Source: https://stackoverflow.com/questions/41912083/nltk-tokenize-faster-way\n",
    "    # toktok = ToktokTokenizer()\n",
    "    # text_tokenized = toktok.tokenize(text_normalized)\n",
    "\n",
    "    # TweetTokenizer doesn't separate contractions (ex. It's vs 'it', 's')\n",
    "    tweet_tokenizer = TweetTokenizer()\n",
    "    text_tokenized = tweet_tokenizer.tokenize(text_normalized)\n",
    "\n",
    "    ########## 1. Punctuation ##########\n",
    "    '''\n",
    "    [1] returns a tokenized list of words with punctuation removed\n",
    "    '''\n",
    "    punct = list(string.punctuation)\n",
    "    text_tokenized_no_punct = [i for i in text_tokenized if i not in punct]\n",
    "\n",
    "    ########## 2. Stopwords ##########\n",
    "    '''\n",
    "    [2] returns a tokenized list of words with stop words removed\n",
    "    '''\n",
    "    stop_words = set(stopwords.words('english'))\n",
    "    text_no_stopwords = [w for w in text_tokenized if not w.lower() in stop_words]\n",
    "\n",
    "    ########## 3. Stemming ##########\n",
    "    '''\n",
    "    [3] returns a sentence of tokenized words with only root ('stemmed') words\n",
    "    '''\n",
    "    ps = PorterStemmer()\n",
    "    def stemText(text):\n",
    "        stem_text=[]\n",
    "        for word in text:\n",
    "            stem_text.append(ps.stem(word))\n",
    "            stem_text.append(\" \")\n",
    "        return \"\".join(stem_text)\n",
    "    stemmed_text = stemText(text_no_stopwords)\n",
    "\n",
    "    # ########## TBD: function inputs ##########\n",
    "    # if remove_punct == True:\n",
    "    #     return text_tokenized_no_punct\n",
    "    # elif remove_punct == False: return text_tokenized \n",
    "\n",
    "    # if stemming == True:\n",
    "    #     return stemmed_text\n",
    "    return text_tokenized, text_tokenized_no_punct, stemmed_text, text_no_stopwords\n",
    "\n",
    "# movie_user_review_txt_tokenized = [normalize_text(i)[1] for i in list(df['movie_user_review_txt'])]"
   ]
  },
  {
   "cell_type": "code",
   "execution_count": 12,
   "metadata": {},
   "outputs": [],
   "source": [
    "# Load English tokenizer, tagger, parser and NER\n",
    "nlp = spacy.load(\"en_core_web_sm\")\n",
    "\n",
    "movie_noun_phrases = []\n",
    "for i in list(df['movie_user_review_txt']):\n",
    "    doc = nlp(i)\n",
    "    review_noun_phrases = [i.text for i in doc.noun_chunks]\n",
    "    movie_noun_phrases.append(review_noun_phrases)\n",
    "\n",
    "# convert list to series\n",
    "movie_noun_phrases_series = pd.Series(movie_noun_phrases)\n",
    "\n",
    "# add noun phrase data back to df\n",
    "df['movie_noun_phrases'] = movie_noun_phrases_series"
   ]
  },
  {
   "cell_type": "code",
   "execution_count": null,
   "metadata": {},
   "outputs": [],
   "source": []
  }
 ]
}