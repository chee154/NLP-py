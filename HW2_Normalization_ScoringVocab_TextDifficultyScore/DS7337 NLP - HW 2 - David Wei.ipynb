{
 "cells": [
  {
   "cell_type": "markdown",
   "metadata": {},
   "source": [
    "### DS7337 NLP - HW 1 & 2\n",
    "#### David Wei"
   ]
  },
  {
   "cell_type": "markdown",
   "metadata": {},
   "source": [
    "# Homework 1\n",
    "\n",
    "1.Follow the instructions in chapter 1 of Bird-Klein for implementing a “lexical diversity” scoring routine. [book link](http://www.nltk.org/book/)\n",
    "\n",
    "2.Go to http://www.gutenberg.org/wiki/Children%27s_Instructional_Books_(Bookshelf), and obtain three texts (of different grade levels) from the “Graded Readers” section. Report the lexical diversity score of each. Explain whether the result was surprising.\n",
    "\n",
    "3.Also compare the vocabulary size of the same three texts. Explain whether the result was surprising. \n",
    "\n",
    "4.Write a paragraph arguing whether vocabulary size and lexical diversity in combination could be a better measure of text difficulty (or reading level) than either measure is by itself.\n"
   ]
  },
  {
   "cell_type": "markdown",
   "metadata": {},
   "source": [
    "### Identifying Text to Analyze"
   ]
  },
  {
   "cell_type": "markdown",
   "metadata": {},
   "source": [
    "<u>**3 text levels:**</u>\n",
    "- 3rd: [The Project Gutenberg EBook of McGuffey's Third Eclectic Reader](https://www.gutenberg.org/cache/epub/14766/pg14766.txt)\n",
    "- 5th: [The Project Gutenberg EBook of McGuffey's Fifth Eclectic Reader](https://www.gutenberg.org/cache/epub/15040/pg15040.txt)\n",
    "- 7th: [The Literary World Seventh Reader by Browne, Metcalf, and Withers](http://www.gutenberg.org/ebooks/19721)"
   ]
  },
  {
   "cell_type": "markdown",
   "metadata": {},
   "source": [
    "### Importing and Creating Text Objects"
   ]
  },
  {
   "cell_type": "code",
   "execution_count": 1,
   "metadata": {},
   "outputs": [],
   "source": [
    "import nltk\n",
    "from urllib import request\n",
    "import matplotlib as plt\n",
    "import os\n",
    "from nltk.tokenize import RegexpTokenizer\n",
    "import numpy as np\n",
    "from sklearn.preprocessing import minmax_scale\n",
    "from IPython.display import Image\n",
    "from IPython.core.display import HTML \n",
    "import requests\n",
    "import urllib.request\n",
    "import time\n",
    "from bs4 import BeautifulSoup\n",
    "import re\n",
    "from nltk.corpus import stopwords\n",
    "from nltk.tokenize import word_tokenize\n",
    "from string import punctuation"
   ]
  },
  {
   "cell_type": "code",
   "execution_count": 20,
   "metadata": {},
   "outputs": [],
   "source": [
    "#3rd|\n",
    "text1_url = \"https://www.gutenberg.org/cache/epub/14766/pg14766.txt\"\n",
    "#5th\n",
    "text2_url = \"https://www.gutenberg.org/cache/epub/15040/pg15040.txt\"\n",
    "#7th\n",
    "text3_url = \"https://www.gutenberg.org/cache/epub/19721/pg19721.txt\"\n",
    "\n",
    "#combined\n",
    "text_urls = [\"https://www.gutenberg.org/cache/epub/14766/pg14766.txt\",\n",
    "            \"https://www.gutenberg.org/cache/epub/15040/pg15040.txt\",\n",
    "            \"https://www.gutenberg.org/cache/epub/19721/pg19721.txt\",]\n",
    "\n",
    "# reads in electronic book\n",
    "def getRaw(text):\n",
    "    url = text\n",
    "    response = request.urlopen(url)\n",
    "    raw = response.read().decode('utf8')\n",
    "    normalized_text = raw.lower()\n",
    "    raw_character_count = len(raw)\n",
    "    return raw, raw_character_count, normalized_text\n",
    "\n",
    "# gets the title of book by searching for each group based on the 'Title:' keyword\n",
    "def getTitle(text):\n",
    "    raw = getRaw(text)[0]\n",
    "    search_title = re.search('Title:(.*)', raw) #finds entire group\n",
    "    title = search_title.group(1).replace(\"\\r\", ' ').strip()\n",
    "    return title\n",
    "\n",
    "# converts token into NLKT text object for linguistic processing\n",
    "def getNLKTText(text):\n",
    "    raw = getRaw(text)[2]\n",
    "    # tokenization to break up string into words and punctuation\n",
    "    tokens = word_tokenize(raw)\n",
    "    text = nltk.Text(tokens)\n",
    "    return text"
   ]
  },
  {
   "cell_type": "markdown",
   "metadata": {},
   "source": [
    "### Finding Lexical Diversity & Vocabulary Size"
   ]
  },
  {
   "cell_type": "markdown",
   "metadata": {},
   "source": [
    "What is lexical diversity? Lexical words are words such as nouns, adjectives, verbs, and adverbs that convey meaning in a text. They’re the words that you’d expect a child to use when first learning to speak. For example, ‘cat’ ‘play’ and ‘red’. [Source](https://textinspector.com/help/lexical-diversity/#:~:text=What%20is%20Lexical%20Diversity%3F,convey%20meaning%20in%20a%20text.)"
   ]
  },
  {
   "cell_type": "code",
   "execution_count": 21,
   "metadata": {},
   "outputs": [],
   "source": [
    "def lexical_diversity(my_text_data):\n",
    "    word_count = len(my_text_data)\n",
    "    vocab_size = len(set(my_text_data))\n",
    "    diversity_score = vocab_size / word_count\n",
    "    return word_count, vocab_size, diversity_score"
   ]
  },
  {
   "cell_type": "code",
   "execution_count": 22,
   "metadata": {},
   "outputs": [
    {
     "output_type": "stream",
     "name": "stdout",
     "text": [
      "[[37398, 4148, 0.1109150221937002], [125052, 12442, 0.09949461024213926], [128400, 11939, 0.09298286604361371]]\n================================================================================\n[168159, 605278, 621668]\n================================================================================\n[\"McGuffey's Third Eclectic Reader\", \"McGuffey's Fifth Eclectic Reader\", 'The Literary World Seventh Reader']\nWall time: 48.9 s\n"
     ]
    }
   ],
   "source": [
    "%%time\n",
    "# create empty list to store text lexical diversity summaries\n",
    "lexical_diversity_total = []\n",
    "raw_counts = []\n",
    "book_titles = []\n",
    "\n",
    "# loop through each text url, convert to NLKT text object format and then create lexical summary\n",
    "for url in text_urls:\n",
    "    nlkt_text = getNLKTText(url)\n",
    "    # retrivies original raw string count\n",
    "    raw_count = getRaw(url)[1]\n",
    "    # retrieves book title\n",
    "    book_title = getTitle(url)\n",
    "    lexical_summary = list(lexical_diversity(nlkt_text))\n",
    "    \n",
    "    # append to empty lexical diversity summary\n",
    "    lexical_diversity_total.append(lexical_summary)\n",
    "    # appends original raw count\n",
    "    raw_counts.append(raw_count)\n",
    "    # append to empty book title \n",
    "    book_titles.append(book_title)\n",
    "    \n",
    "print(lexical_diversity_total)\n",
    "print('='*80)\n",
    "print(raw_counts)\n",
    "print('='*80)\n",
    "print(book_titles)"
   ]
  },
  {
   "cell_type": "code",
   "execution_count": 23,
   "metadata": {},
   "outputs": [
    {
     "output_type": "stream",
     "name": "stdout",
     "text": [
      "   tokenized_word_count  vocab_size  diversity_score\n0                 37398        4148         0.110915\n1                125052       12442         0.099495\n2                128400       11939         0.092983\n                          book_title\n0   McGuffey's Third Eclectic Reader\n1   McGuffey's Fifth Eclectic Reader\n2  The Literary World Seventh Reader\n================================================================================\n                          book_title  raw_word_count  tokenized_word_count  \\\n0   McGuffey's Third Eclectic Reader          168159                 37398   \n1   McGuffey's Fifth Eclectic Reader          605278                125052   \n2  The Literary World Seventh Reader          621668                128400   \n\n   vocab_size  diversity_score  \n0        4148         0.110915  \n1       12442         0.099495  \n2       11939         0.092983  \n"
     ]
    }
   ],
   "source": [
    "import pandas as pd\n",
    "\n",
    "#create df from list\n",
    "lexical_diversity_total_df = pd.DataFrame(lexical_diversity_total, \n",
    "                                            columns=['tokenized_word_count', 'vocab_size', 'diversity_score'])\n",
    "raw_counts_df = pd.DataFrame(raw_counts, columns=['raw_word_count'])\n",
    "book_title_df = pd.DataFrame(book_titles, columns=['book_title'])\n",
    "\n",
    "print(lexical_diversity_total_df)\n",
    "print(book_title_df)\n",
    "print('='*80)\n",
    "\n",
    "#join in our book names\n",
    "final_df_list = [book_title_df, raw_counts_df, lexical_diversity_total_df]\n",
    "lexical_summary_df = pd.concat(final_df_list,axis=1)\n",
    "print(lexical_summary_df)"
   ]
  },
  {
   "cell_type": "markdown",
   "metadata": {},
   "source": [
    "#### Finding correlation between the raw_word_count and the vocabulary size"
   ]
  },
  {
   "cell_type": "code",
   "execution_count": 24,
   "metadata": {},
   "outputs": [
    {
     "output_type": "execute_result",
     "data": {
      "text/plain": [
       "0.9963064745407576"
      ]
     },
     "metadata": {},
     "execution_count": 24
    }
   ],
   "source": [
    "lexical_summary_df['raw_word_count'].corr(lexical_summary_df['vocab_size'])"
   ]
  },
  {
   "cell_type": "markdown",
   "metadata": {},
   "source": [
    "#### Finding correlation between the tokenized vocabulary size and it's lexical diversity"
   ]
  },
  {
   "cell_type": "code",
   "execution_count": 25,
   "metadata": {},
   "outputs": [
    {
     "output_type": "execute_result",
     "data": {
      "text/plain": [
       "-0.9126951623945646"
      ]
     },
     "metadata": {},
     "execution_count": 25
    }
   ],
   "source": [
    "lexical_summary_df['vocab_size'].corr(lexical_summary_df['diversity_score'])"
   ]
  },
  {
   "cell_type": "code",
   "execution_count": 26,
   "metadata": {},
   "outputs": [
    {
     "output_type": "execute_result",
     "data": {
      "text/plain": [
       "Text(0.5, 1.0, 'Fig 1. Corr Vocab_Size vs Lex_Diversity')"
      ]
     },
     "metadata": {},
     "execution_count": 26
    },
    {
     "output_type": "display_data",
     "data": {
      "text/plain": "<Figure size 432x288 with 1 Axes>",
      "image/svg+xml": "<?xml version=\"1.0\" encoding=\"utf-8\" standalone=\"no\"?>\r\n<!DOCTYPE svg PUBLIC \"-//W3C//DTD SVG 1.1//EN\"\r\n  \"http://www.w3.org/Graphics/SVG/1.1/DTD/svg11.dtd\">\r\n<!-- Created with matplotlib (https://matplotlib.org/) -->\r\n<svg height=\"277.5925pt\" version=\"1.1\" viewBox=\"0 0 405.146875 277.5925\" width=\"405.146875pt\" xmlns=\"http://www.w3.org/2000/svg\" xmlns:xlink=\"http://www.w3.org/1999/xlink\">\r\n <metadata>\r\n  <rdf:RDF xmlns:cc=\"http://creativecommons.org/ns#\" xmlns:dc=\"http://purl.org/dc/elements/1.1/\" xmlns:rdf=\"http://www.w3.org/1999/02/22-rdf-syntax-ns#\">\r\n   <cc:Work>\r\n    <dc:type rdf:resource=\"http://purl.org/dc/dcmitype/StillImage\"/>\r\n    <dc:date>2021-05-18T12:26:20.380799</dc:date>\r\n    <dc:format>image/svg+xml</dc:format>\r\n    <dc:creator>\r\n     <cc:Agent>\r\n      <dc:title>Matplotlib v3.3.2, https://matplotlib.org/</dc:title>\r\n     </cc:Agent>\r\n    </dc:creator>\r\n   </cc:Work>\r\n  </rdf:RDF>\r\n </metadata>\r\n <defs>\r\n  <style type=\"text/css\">*{stroke-linecap:butt;stroke-linejoin:round;}</style>\r\n </defs>\r\n <g id=\"figure_1\">\r\n  <g id=\"patch_1\">\r\n   <path d=\"M 0 277.5925 \r\nL 405.146875 277.5925 \r\nL 405.146875 0 \r\nL 0 0 \r\nz\r\n\" style=\"fill:none;\"/>\r\n  </g>\r\n  <g id=\"axes_1\">\r\n   <g id=\"patch_2\">\r\n    <path d=\"M 63.146875 239.758125 \r\nL 397.946875 239.758125 \r\nL 397.946875 22.318125 \r\nL 63.146875 22.318125 \r\nz\r\n\" style=\"fill:#ffffff;\"/>\r\n   </g>\r\n   <g id=\"matplotlib.axis_1\">\r\n    <g id=\"xtick_1\">\r\n     <g id=\"line2d_1\">\r\n      <defs>\r\n       <path d=\"M 0 0 \r\nL 0 3.5 \r\n\" id=\"m08c94cf508\" style=\"stroke:#000000;stroke-width:0.8;\"/>\r\n      </defs>\r\n      <g>\r\n       <use style=\"stroke:#000000;stroke-width:0.8;\" x=\"72.933924\" xlink:href=\"#m08c94cf508\" y=\"239.758125\"/>\r\n      </g>\r\n     </g>\r\n     <g id=\"text_1\">\r\n      <!-- 4000 -->\r\n      <g transform=\"translate(60.208924 254.356563)scale(0.1 -0.1)\">\r\n       <defs>\r\n        <path d=\"M 37.796875 64.3125 \r\nL 12.890625 25.390625 \r\nL 37.796875 25.390625 \r\nz\r\nM 35.203125 72.90625 \r\nL 47.609375 72.90625 \r\nL 47.609375 25.390625 \r\nL 58.015625 25.390625 \r\nL 58.015625 17.1875 \r\nL 47.609375 17.1875 \r\nL 47.609375 0 \r\nL 37.796875 0 \r\nL 37.796875 17.1875 \r\nL 4.890625 17.1875 \r\nL 4.890625 26.703125 \r\nz\r\n\" id=\"DejaVuSans-52\"/>\r\n        <path d=\"M 31.78125 66.40625 \r\nQ 24.171875 66.40625 20.328125 58.90625 \r\nQ 16.5 51.421875 16.5 36.375 \r\nQ 16.5 21.390625 20.328125 13.890625 \r\nQ 24.171875 6.390625 31.78125 6.390625 \r\nQ 39.453125 6.390625 43.28125 13.890625 \r\nQ 47.125 21.390625 47.125 36.375 \r\nQ 47.125 51.421875 43.28125 58.90625 \r\nQ 39.453125 66.40625 31.78125 66.40625 \r\nz\r\nM 31.78125 74.21875 \r\nQ 44.046875 74.21875 50.515625 64.515625 \r\nQ 56.984375 54.828125 56.984375 36.375 \r\nQ 56.984375 17.96875 50.515625 8.265625 \r\nQ 44.046875 -1.421875 31.78125 -1.421875 \r\nQ 19.53125 -1.421875 13.0625 8.265625 \r\nQ 6.59375 17.96875 6.59375 36.375 \r\nQ 6.59375 54.828125 13.0625 64.515625 \r\nQ 19.53125 74.21875 31.78125 74.21875 \r\nz\r\n\" id=\"DejaVuSans-48\"/>\r\n       </defs>\r\n       <use xlink:href=\"#DejaVuSans-52\"/>\r\n       <use x=\"63.623047\" xlink:href=\"#DejaVuSans-48\"/>\r\n       <use x=\"127.246094\" xlink:href=\"#DejaVuSans-48\"/>\r\n       <use x=\"190.869141\" xlink:href=\"#DejaVuSans-48\"/>\r\n      </g>\r\n     </g>\r\n    </g>\r\n    <g id=\"xtick_2\">\r\n     <g id=\"line2d_2\">\r\n      <g>\r\n       <use style=\"stroke:#000000;stroke-width:0.8;\" x=\"146.327615\" xlink:href=\"#m08c94cf508\" y=\"239.758125\"/>\r\n      </g>\r\n     </g>\r\n     <g id=\"text_2\">\r\n      <!-- 6000 -->\r\n      <g transform=\"translate(133.602615 254.356563)scale(0.1 -0.1)\">\r\n       <defs>\r\n        <path d=\"M 33.015625 40.375 \r\nQ 26.375 40.375 22.484375 35.828125 \r\nQ 18.609375 31.296875 18.609375 23.390625 \r\nQ 18.609375 15.53125 22.484375 10.953125 \r\nQ 26.375 6.390625 33.015625 6.390625 \r\nQ 39.65625 6.390625 43.53125 10.953125 \r\nQ 47.40625 15.53125 47.40625 23.390625 \r\nQ 47.40625 31.296875 43.53125 35.828125 \r\nQ 39.65625 40.375 33.015625 40.375 \r\nz\r\nM 52.59375 71.296875 \r\nL 52.59375 62.3125 \r\nQ 48.875 64.0625 45.09375 64.984375 \r\nQ 41.3125 65.921875 37.59375 65.921875 \r\nQ 27.828125 65.921875 22.671875 59.328125 \r\nQ 17.53125 52.734375 16.796875 39.40625 \r\nQ 19.671875 43.65625 24.015625 45.921875 \r\nQ 28.375 48.1875 33.59375 48.1875 \r\nQ 44.578125 48.1875 50.953125 41.515625 \r\nQ 57.328125 34.859375 57.328125 23.390625 \r\nQ 57.328125 12.15625 50.6875 5.359375 \r\nQ 44.046875 -1.421875 33.015625 -1.421875 \r\nQ 20.359375 -1.421875 13.671875 8.265625 \r\nQ 6.984375 17.96875 6.984375 36.375 \r\nQ 6.984375 53.65625 15.1875 63.9375 \r\nQ 23.390625 74.21875 37.203125 74.21875 \r\nQ 40.921875 74.21875 44.703125 73.484375 \r\nQ 48.484375 72.75 52.59375 71.296875 \r\nz\r\n\" id=\"DejaVuSans-54\"/>\r\n       </defs>\r\n       <use xlink:href=\"#DejaVuSans-54\"/>\r\n       <use x=\"63.623047\" xlink:href=\"#DejaVuSans-48\"/>\r\n       <use x=\"127.246094\" xlink:href=\"#DejaVuSans-48\"/>\r\n       <use x=\"190.869141\" xlink:href=\"#DejaVuSans-48\"/>\r\n      </g>\r\n     </g>\r\n    </g>\r\n    <g id=\"xtick_3\">\r\n     <g id=\"line2d_3\">\r\n      <g>\r\n       <use style=\"stroke:#000000;stroke-width:0.8;\" x=\"219.721306\" xlink:href=\"#m08c94cf508\" y=\"239.758125\"/>\r\n      </g>\r\n     </g>\r\n     <g id=\"text_3\">\r\n      <!-- 8000 -->\r\n      <g transform=\"translate(206.996306 254.356563)scale(0.1 -0.1)\">\r\n       <defs>\r\n        <path d=\"M 31.78125 34.625 \r\nQ 24.75 34.625 20.71875 30.859375 \r\nQ 16.703125 27.09375 16.703125 20.515625 \r\nQ 16.703125 13.921875 20.71875 10.15625 \r\nQ 24.75 6.390625 31.78125 6.390625 \r\nQ 38.8125 6.390625 42.859375 10.171875 \r\nQ 46.921875 13.96875 46.921875 20.515625 \r\nQ 46.921875 27.09375 42.890625 30.859375 \r\nQ 38.875 34.625 31.78125 34.625 \r\nz\r\nM 21.921875 38.8125 \r\nQ 15.578125 40.375 12.03125 44.71875 \r\nQ 8.5 49.078125 8.5 55.328125 \r\nQ 8.5 64.0625 14.71875 69.140625 \r\nQ 20.953125 74.21875 31.78125 74.21875 \r\nQ 42.671875 74.21875 48.875 69.140625 \r\nQ 55.078125 64.0625 55.078125 55.328125 \r\nQ 55.078125 49.078125 51.53125 44.71875 \r\nQ 48 40.375 41.703125 38.8125 \r\nQ 48.828125 37.15625 52.796875 32.3125 \r\nQ 56.78125 27.484375 56.78125 20.515625 \r\nQ 56.78125 9.90625 50.3125 4.234375 \r\nQ 43.84375 -1.421875 31.78125 -1.421875 \r\nQ 19.734375 -1.421875 13.25 4.234375 \r\nQ 6.78125 9.90625 6.78125 20.515625 \r\nQ 6.78125 27.484375 10.78125 32.3125 \r\nQ 14.796875 37.15625 21.921875 38.8125 \r\nz\r\nM 18.3125 54.390625 \r\nQ 18.3125 48.734375 21.84375 45.5625 \r\nQ 25.390625 42.390625 31.78125 42.390625 \r\nQ 38.140625 42.390625 41.71875 45.5625 \r\nQ 45.3125 48.734375 45.3125 54.390625 \r\nQ 45.3125 60.0625 41.71875 63.234375 \r\nQ 38.140625 66.40625 31.78125 66.40625 \r\nQ 25.390625 66.40625 21.84375 63.234375 \r\nQ 18.3125 60.0625 18.3125 54.390625 \r\nz\r\n\" id=\"DejaVuSans-56\"/>\r\n       </defs>\r\n       <use xlink:href=\"#DejaVuSans-56\"/>\r\n       <use x=\"63.623047\" xlink:href=\"#DejaVuSans-48\"/>\r\n       <use x=\"127.246094\" xlink:href=\"#DejaVuSans-48\"/>\r\n       <use x=\"190.869141\" xlink:href=\"#DejaVuSans-48\"/>\r\n      </g>\r\n     </g>\r\n    </g>\r\n    <g id=\"xtick_4\">\r\n     <g id=\"line2d_4\">\r\n      <g>\r\n       <use style=\"stroke:#000000;stroke-width:0.8;\" x=\"293.114997\" xlink:href=\"#m08c94cf508\" y=\"239.758125\"/>\r\n      </g>\r\n     </g>\r\n     <g id=\"text_4\">\r\n      <!-- 10000 -->\r\n      <g transform=\"translate(277.208747 254.356563)scale(0.1 -0.1)\">\r\n       <defs>\r\n        <path d=\"M 12.40625 8.296875 \r\nL 28.515625 8.296875 \r\nL 28.515625 63.921875 \r\nL 10.984375 60.40625 \r\nL 10.984375 69.390625 \r\nL 28.421875 72.90625 \r\nL 38.28125 72.90625 \r\nL 38.28125 8.296875 \r\nL 54.390625 8.296875 \r\nL 54.390625 0 \r\nL 12.40625 0 \r\nz\r\n\" id=\"DejaVuSans-49\"/>\r\n       </defs>\r\n       <use xlink:href=\"#DejaVuSans-49\"/>\r\n       <use x=\"63.623047\" xlink:href=\"#DejaVuSans-48\"/>\r\n       <use x=\"127.246094\" xlink:href=\"#DejaVuSans-48\"/>\r\n       <use x=\"190.869141\" xlink:href=\"#DejaVuSans-48\"/>\r\n       <use x=\"254.492188\" xlink:href=\"#DejaVuSans-48\"/>\r\n      </g>\r\n     </g>\r\n    </g>\r\n    <g id=\"xtick_5\">\r\n     <g id=\"line2d_5\">\r\n      <g>\r\n       <use style=\"stroke:#000000;stroke-width:0.8;\" x=\"366.508687\" xlink:href=\"#m08c94cf508\" y=\"239.758125\"/>\r\n      </g>\r\n     </g>\r\n     <g id=\"text_5\">\r\n      <!-- 12000 -->\r\n      <g transform=\"translate(350.602437 254.356563)scale(0.1 -0.1)\">\r\n       <defs>\r\n        <path d=\"M 19.1875 8.296875 \r\nL 53.609375 8.296875 \r\nL 53.609375 0 \r\nL 7.328125 0 \r\nL 7.328125 8.296875 \r\nQ 12.9375 14.109375 22.625 23.890625 \r\nQ 32.328125 33.6875 34.8125 36.53125 \r\nQ 39.546875 41.84375 41.421875 45.53125 \r\nQ 43.3125 49.21875 43.3125 52.78125 \r\nQ 43.3125 58.59375 39.234375 62.25 \r\nQ 35.15625 65.921875 28.609375 65.921875 \r\nQ 23.96875 65.921875 18.8125 64.3125 \r\nQ 13.671875 62.703125 7.8125 59.421875 \r\nL 7.8125 69.390625 \r\nQ 13.765625 71.78125 18.9375 73 \r\nQ 24.125 74.21875 28.421875 74.21875 \r\nQ 39.75 74.21875 46.484375 68.546875 \r\nQ 53.21875 62.890625 53.21875 53.421875 \r\nQ 53.21875 48.921875 51.53125 44.890625 \r\nQ 49.859375 40.875 45.40625 35.40625 \r\nQ 44.1875 33.984375 37.640625 27.21875 \r\nQ 31.109375 20.453125 19.1875 8.296875 \r\nz\r\n\" id=\"DejaVuSans-50\"/>\r\n       </defs>\r\n       <use xlink:href=\"#DejaVuSans-49\"/>\r\n       <use x=\"63.623047\" xlink:href=\"#DejaVuSans-50\"/>\r\n       <use x=\"127.246094\" xlink:href=\"#DejaVuSans-48\"/>\r\n       <use x=\"190.869141\" xlink:href=\"#DejaVuSans-48\"/>\r\n       <use x=\"254.492188\" xlink:href=\"#DejaVuSans-48\"/>\r\n      </g>\r\n     </g>\r\n    </g>\r\n    <g id=\"text_6\">\r\n     <!-- vocab_size -->\r\n     <g transform=\"translate(203.346094 268.034688)scale(0.1 -0.1)\">\r\n      <defs>\r\n       <path d=\"M 2.984375 54.6875 \r\nL 12.5 54.6875 \r\nL 29.59375 8.796875 \r\nL 46.6875 54.6875 \r\nL 56.203125 54.6875 \r\nL 35.6875 0 \r\nL 23.484375 0 \r\nz\r\n\" id=\"DejaVuSans-118\"/>\r\n       <path d=\"M 30.609375 48.390625 \r\nQ 23.390625 48.390625 19.1875 42.75 \r\nQ 14.984375 37.109375 14.984375 27.296875 \r\nQ 14.984375 17.484375 19.15625 11.84375 \r\nQ 23.34375 6.203125 30.609375 6.203125 \r\nQ 37.796875 6.203125 41.984375 11.859375 \r\nQ 46.1875 17.53125 46.1875 27.296875 \r\nQ 46.1875 37.015625 41.984375 42.703125 \r\nQ 37.796875 48.390625 30.609375 48.390625 \r\nz\r\nM 30.609375 56 \r\nQ 42.328125 56 49.015625 48.375 \r\nQ 55.71875 40.765625 55.71875 27.296875 \r\nQ 55.71875 13.875 49.015625 6.21875 \r\nQ 42.328125 -1.421875 30.609375 -1.421875 \r\nQ 18.84375 -1.421875 12.171875 6.21875 \r\nQ 5.515625 13.875 5.515625 27.296875 \r\nQ 5.515625 40.765625 12.171875 48.375 \r\nQ 18.84375 56 30.609375 56 \r\nz\r\n\" id=\"DejaVuSans-111\"/>\r\n       <path d=\"M 48.78125 52.59375 \r\nL 48.78125 44.1875 \r\nQ 44.96875 46.296875 41.140625 47.34375 \r\nQ 37.3125 48.390625 33.40625 48.390625 \r\nQ 24.65625 48.390625 19.8125 42.84375 \r\nQ 14.984375 37.3125 14.984375 27.296875 \r\nQ 14.984375 17.28125 19.8125 11.734375 \r\nQ 24.65625 6.203125 33.40625 6.203125 \r\nQ 37.3125 6.203125 41.140625 7.25 \r\nQ 44.96875 8.296875 48.78125 10.40625 \r\nL 48.78125 2.09375 \r\nQ 45.015625 0.34375 40.984375 -0.53125 \r\nQ 36.96875 -1.421875 32.421875 -1.421875 \r\nQ 20.0625 -1.421875 12.78125 6.34375 \r\nQ 5.515625 14.109375 5.515625 27.296875 \r\nQ 5.515625 40.671875 12.859375 48.328125 \r\nQ 20.21875 56 33.015625 56 \r\nQ 37.15625 56 41.109375 55.140625 \r\nQ 45.0625 54.296875 48.78125 52.59375 \r\nz\r\n\" id=\"DejaVuSans-99\"/>\r\n       <path d=\"M 34.28125 27.484375 \r\nQ 23.390625 27.484375 19.1875 25 \r\nQ 14.984375 22.515625 14.984375 16.5 \r\nQ 14.984375 11.71875 18.140625 8.90625 \r\nQ 21.296875 6.109375 26.703125 6.109375 \r\nQ 34.1875 6.109375 38.703125 11.40625 \r\nQ 43.21875 16.703125 43.21875 25.484375 \r\nL 43.21875 27.484375 \r\nz\r\nM 52.203125 31.203125 \r\nL 52.203125 0 \r\nL 43.21875 0 \r\nL 43.21875 8.296875 \r\nQ 40.140625 3.328125 35.546875 0.953125 \r\nQ 30.953125 -1.421875 24.3125 -1.421875 \r\nQ 15.921875 -1.421875 10.953125 3.296875 \r\nQ 6 8.015625 6 15.921875 \r\nQ 6 25.140625 12.171875 29.828125 \r\nQ 18.359375 34.515625 30.609375 34.515625 \r\nL 43.21875 34.515625 \r\nL 43.21875 35.40625 \r\nQ 43.21875 41.609375 39.140625 45 \r\nQ 35.0625 48.390625 27.6875 48.390625 \r\nQ 23 48.390625 18.546875 47.265625 \r\nQ 14.109375 46.140625 10.015625 43.890625 \r\nL 10.015625 52.203125 \r\nQ 14.9375 54.109375 19.578125 55.046875 \r\nQ 24.21875 56 28.609375 56 \r\nQ 40.484375 56 46.34375 49.84375 \r\nQ 52.203125 43.703125 52.203125 31.203125 \r\nz\r\n\" id=\"DejaVuSans-97\"/>\r\n       <path d=\"M 48.6875 27.296875 \r\nQ 48.6875 37.203125 44.609375 42.84375 \r\nQ 40.53125 48.484375 33.40625 48.484375 \r\nQ 26.265625 48.484375 22.1875 42.84375 \r\nQ 18.109375 37.203125 18.109375 27.296875 \r\nQ 18.109375 17.390625 22.1875 11.75 \r\nQ 26.265625 6.109375 33.40625 6.109375 \r\nQ 40.53125 6.109375 44.609375 11.75 \r\nQ 48.6875 17.390625 48.6875 27.296875 \r\nz\r\nM 18.109375 46.390625 \r\nQ 20.953125 51.265625 25.265625 53.625 \r\nQ 29.59375 56 35.59375 56 \r\nQ 45.5625 56 51.78125 48.09375 \r\nQ 58.015625 40.1875 58.015625 27.296875 \r\nQ 58.015625 14.40625 51.78125 6.484375 \r\nQ 45.5625 -1.421875 35.59375 -1.421875 \r\nQ 29.59375 -1.421875 25.265625 0.953125 \r\nQ 20.953125 3.328125 18.109375 8.203125 \r\nL 18.109375 0 \r\nL 9.078125 0 \r\nL 9.078125 75.984375 \r\nL 18.109375 75.984375 \r\nz\r\n\" id=\"DejaVuSans-98\"/>\r\n       <path d=\"M 50.984375 -16.609375 \r\nL 50.984375 -23.578125 \r\nL -0.984375 -23.578125 \r\nL -0.984375 -16.609375 \r\nz\r\n\" id=\"DejaVuSans-95\"/>\r\n       <path d=\"M 44.28125 53.078125 \r\nL 44.28125 44.578125 \r\nQ 40.484375 46.53125 36.375 47.5 \r\nQ 32.28125 48.484375 27.875 48.484375 \r\nQ 21.1875 48.484375 17.84375 46.4375 \r\nQ 14.5 44.390625 14.5 40.28125 \r\nQ 14.5 37.15625 16.890625 35.375 \r\nQ 19.28125 33.59375 26.515625 31.984375 \r\nL 29.59375 31.296875 \r\nQ 39.15625 29.25 43.1875 25.515625 \r\nQ 47.21875 21.78125 47.21875 15.09375 \r\nQ 47.21875 7.46875 41.1875 3.015625 \r\nQ 35.15625 -1.421875 24.609375 -1.421875 \r\nQ 20.21875 -1.421875 15.453125 -0.5625 \r\nQ 10.6875 0.296875 5.421875 2 \r\nL 5.421875 11.28125 \r\nQ 10.40625 8.6875 15.234375 7.390625 \r\nQ 20.0625 6.109375 24.8125 6.109375 \r\nQ 31.15625 6.109375 34.5625 8.28125 \r\nQ 37.984375 10.453125 37.984375 14.40625 \r\nQ 37.984375 18.0625 35.515625 20.015625 \r\nQ 33.0625 21.96875 24.703125 23.78125 \r\nL 21.578125 24.515625 \r\nQ 13.234375 26.265625 9.515625 29.90625 \r\nQ 5.8125 33.546875 5.8125 39.890625 \r\nQ 5.8125 47.609375 11.28125 51.796875 \r\nQ 16.75 56 26.8125 56 \r\nQ 31.78125 56 36.171875 55.265625 \r\nQ 40.578125 54.546875 44.28125 53.078125 \r\nz\r\n\" id=\"DejaVuSans-115\"/>\r\n       <path d=\"M 9.421875 54.6875 \r\nL 18.40625 54.6875 \r\nL 18.40625 0 \r\nL 9.421875 0 \r\nz\r\nM 9.421875 75.984375 \r\nL 18.40625 75.984375 \r\nL 18.40625 64.59375 \r\nL 9.421875 64.59375 \r\nz\r\n\" id=\"DejaVuSans-105\"/>\r\n       <path d=\"M 5.515625 54.6875 \r\nL 48.1875 54.6875 \r\nL 48.1875 46.484375 \r\nL 14.40625 7.171875 \r\nL 48.1875 7.171875 \r\nL 48.1875 0 \r\nL 4.296875 0 \r\nL 4.296875 8.203125 \r\nL 38.09375 47.515625 \r\nL 5.515625 47.515625 \r\nz\r\n\" id=\"DejaVuSans-122\"/>\r\n       <path d=\"M 56.203125 29.59375 \r\nL 56.203125 25.203125 \r\nL 14.890625 25.203125 \r\nQ 15.484375 15.921875 20.484375 11.0625 \r\nQ 25.484375 6.203125 34.421875 6.203125 \r\nQ 39.59375 6.203125 44.453125 7.46875 \r\nQ 49.3125 8.734375 54.109375 11.28125 \r\nL 54.109375 2.78125 \r\nQ 49.265625 0.734375 44.1875 -0.34375 \r\nQ 39.109375 -1.421875 33.890625 -1.421875 \r\nQ 20.796875 -1.421875 13.15625 6.1875 \r\nQ 5.515625 13.8125 5.515625 26.8125 \r\nQ 5.515625 40.234375 12.765625 48.109375 \r\nQ 20.015625 56 32.328125 56 \r\nQ 43.359375 56 49.78125 48.890625 \r\nQ 56.203125 41.796875 56.203125 29.59375 \r\nz\r\nM 47.21875 32.234375 \r\nQ 47.125 39.59375 43.09375 43.984375 \r\nQ 39.0625 48.390625 32.421875 48.390625 \r\nQ 24.90625 48.390625 20.390625 44.140625 \r\nQ 15.875 39.890625 15.1875 32.171875 \r\nz\r\n\" id=\"DejaVuSans-101\"/>\r\n      </defs>\r\n      <use xlink:href=\"#DejaVuSans-118\"/>\r\n      <use x=\"59.179688\" xlink:href=\"#DejaVuSans-111\"/>\r\n      <use x=\"120.361328\" xlink:href=\"#DejaVuSans-99\"/>\r\n      <use x=\"175.341797\" xlink:href=\"#DejaVuSans-97\"/>\r\n      <use x=\"236.621094\" xlink:href=\"#DejaVuSans-98\"/>\r\n      <use x=\"300.097656\" xlink:href=\"#DejaVuSans-95\"/>\r\n      <use x=\"350.097656\" xlink:href=\"#DejaVuSans-115\"/>\r\n      <use x=\"402.197266\" xlink:href=\"#DejaVuSans-105\"/>\r\n      <use x=\"429.980469\" xlink:href=\"#DejaVuSans-122\"/>\r\n      <use x=\"482.470703\" xlink:href=\"#DejaVuSans-101\"/>\r\n     </g>\r\n    </g>\r\n   </g>\r\n   <g id=\"matplotlib.axis_2\">\r\n    <g id=\"ytick_1\">\r\n     <g id=\"line2d_6\">\r\n      <defs>\r\n       <path d=\"M 0 0 \r\nL -3.5 0 \r\n\" id=\"mde62797f11\" style=\"stroke:#000000;stroke-width:0.8;\"/>\r\n      </defs>\r\n      <g>\r\n       <use style=\"stroke:#000000;stroke-width:0.8;\" x=\"63.146875\" xlink:href=\"#mde62797f11\" y=\"235.197298\"/>\r\n      </g>\r\n     </g>\r\n     <g id=\"text_7\">\r\n      <!-- 0.0925 -->\r\n      <g transform=\"translate(21.15625 238.996517)scale(0.1 -0.1)\">\r\n       <defs>\r\n        <path d=\"M 10.6875 12.40625 \r\nL 21 12.40625 \r\nL 21 0 \r\nL 10.6875 0 \r\nz\r\n\" id=\"DejaVuSans-46\"/>\r\n        <path d=\"M 10.984375 1.515625 \r\nL 10.984375 10.5 \r\nQ 14.703125 8.734375 18.5 7.8125 \r\nQ 22.3125 6.890625 25.984375 6.890625 \r\nQ 35.75 6.890625 40.890625 13.453125 \r\nQ 46.046875 20.015625 46.78125 33.40625 \r\nQ 43.953125 29.203125 39.59375 26.953125 \r\nQ 35.25 24.703125 29.984375 24.703125 \r\nQ 19.046875 24.703125 12.671875 31.3125 \r\nQ 6.296875 37.9375 6.296875 49.421875 \r\nQ 6.296875 60.640625 12.9375 67.421875 \r\nQ 19.578125 74.21875 30.609375 74.21875 \r\nQ 43.265625 74.21875 49.921875 64.515625 \r\nQ 56.59375 54.828125 56.59375 36.375 \r\nQ 56.59375 19.140625 48.40625 8.859375 \r\nQ 40.234375 -1.421875 26.421875 -1.421875 \r\nQ 22.703125 -1.421875 18.890625 -0.6875 \r\nQ 15.09375 0.046875 10.984375 1.515625 \r\nz\r\nM 30.609375 32.421875 \r\nQ 37.25 32.421875 41.125 36.953125 \r\nQ 45.015625 41.5 45.015625 49.421875 \r\nQ 45.015625 57.28125 41.125 61.84375 \r\nQ 37.25 66.40625 30.609375 66.40625 \r\nQ 23.96875 66.40625 20.09375 61.84375 \r\nQ 16.21875 57.28125 16.21875 49.421875 \r\nQ 16.21875 41.5 20.09375 36.953125 \r\nQ 23.96875 32.421875 30.609375 32.421875 \r\nz\r\n\" id=\"DejaVuSans-57\"/>\r\n        <path d=\"M 10.796875 72.90625 \r\nL 49.515625 72.90625 \r\nL 49.515625 64.59375 \r\nL 19.828125 64.59375 \r\nL 19.828125 46.734375 \r\nQ 21.96875 47.46875 24.109375 47.828125 \r\nQ 26.265625 48.1875 28.421875 48.1875 \r\nQ 40.625 48.1875 47.75 41.5 \r\nQ 54.890625 34.8125 54.890625 23.390625 \r\nQ 54.890625 11.625 47.5625 5.09375 \r\nQ 40.234375 -1.421875 26.90625 -1.421875 \r\nQ 22.3125 -1.421875 17.546875 -0.640625 \r\nQ 12.796875 0.140625 7.71875 1.703125 \r\nL 7.71875 11.625 \r\nQ 12.109375 9.234375 16.796875 8.0625 \r\nQ 21.484375 6.890625 26.703125 6.890625 \r\nQ 35.15625 6.890625 40.078125 11.328125 \r\nQ 45.015625 15.765625 45.015625 23.390625 \r\nQ 45.015625 31 40.078125 35.4375 \r\nQ 35.15625 39.890625 26.703125 39.890625 \r\nQ 22.75 39.890625 18.8125 39.015625 \r\nQ 14.890625 38.140625 10.796875 36.28125 \r\nz\r\n\" id=\"DejaVuSans-53\"/>\r\n       </defs>\r\n       <use xlink:href=\"#DejaVuSans-48\"/>\r\n       <use x=\"63.623047\" xlink:href=\"#DejaVuSans-46\"/>\r\n       <use x=\"95.410156\" xlink:href=\"#DejaVuSans-48\"/>\r\n       <use x=\"159.033203\" xlink:href=\"#DejaVuSans-57\"/>\r\n       <use x=\"222.65625\" xlink:href=\"#DejaVuSans-50\"/>\r\n       <use x=\"286.279297\" xlink:href=\"#DejaVuSans-53\"/>\r\n      </g>\r\n     </g>\r\n    </g>\r\n    <g id=\"ytick_2\">\r\n     <g id=\"line2d_7\">\r\n      <g>\r\n       <use style=\"stroke:#000000;stroke-width:0.8;\" x=\"63.146875\" xlink:href=\"#mde62797f11\" y=\"207.638882\"/>\r\n      </g>\r\n     </g>\r\n     <g id=\"text_8\">\r\n      <!-- 0.0950 -->\r\n      <g transform=\"translate(21.15625 211.438101)scale(0.1 -0.1)\">\r\n       <use xlink:href=\"#DejaVuSans-48\"/>\r\n       <use x=\"63.623047\" xlink:href=\"#DejaVuSans-46\"/>\r\n       <use x=\"95.410156\" xlink:href=\"#DejaVuSans-48\"/>\r\n       <use x=\"159.033203\" xlink:href=\"#DejaVuSans-57\"/>\r\n       <use x=\"222.65625\" xlink:href=\"#DejaVuSans-53\"/>\r\n       <use x=\"286.279297\" xlink:href=\"#DejaVuSans-48\"/>\r\n      </g>\r\n     </g>\r\n    </g>\r\n    <g id=\"ytick_3\">\r\n     <g id=\"line2d_8\">\r\n      <g>\r\n       <use style=\"stroke:#000000;stroke-width:0.8;\" x=\"63.146875\" xlink:href=\"#mde62797f11\" y=\"180.080466\"/>\r\n      </g>\r\n     </g>\r\n     <g id=\"text_9\">\r\n      <!-- 0.0975 -->\r\n      <g transform=\"translate(21.15625 183.879685)scale(0.1 -0.1)\">\r\n       <defs>\r\n        <path d=\"M 8.203125 72.90625 \r\nL 55.078125 72.90625 \r\nL 55.078125 68.703125 \r\nL 28.609375 0 \r\nL 18.3125 0 \r\nL 43.21875 64.59375 \r\nL 8.203125 64.59375 \r\nz\r\n\" id=\"DejaVuSans-55\"/>\r\n       </defs>\r\n       <use xlink:href=\"#DejaVuSans-48\"/>\r\n       <use x=\"63.623047\" xlink:href=\"#DejaVuSans-46\"/>\r\n       <use x=\"95.410156\" xlink:href=\"#DejaVuSans-48\"/>\r\n       <use x=\"159.033203\" xlink:href=\"#DejaVuSans-57\"/>\r\n       <use x=\"222.65625\" xlink:href=\"#DejaVuSans-55\"/>\r\n       <use x=\"286.279297\" xlink:href=\"#DejaVuSans-53\"/>\r\n      </g>\r\n     </g>\r\n    </g>\r\n    <g id=\"ytick_4\">\r\n     <g id=\"line2d_9\">\r\n      <g>\r\n       <use style=\"stroke:#000000;stroke-width:0.8;\" x=\"63.146875\" xlink:href=\"#mde62797f11\" y=\"152.52205\"/>\r\n      </g>\r\n     </g>\r\n     <g id=\"text_10\">\r\n      <!-- 0.1000 -->\r\n      <g transform=\"translate(21.15625 156.321269)scale(0.1 -0.1)\">\r\n       <use xlink:href=\"#DejaVuSans-48\"/>\r\n       <use x=\"63.623047\" xlink:href=\"#DejaVuSans-46\"/>\r\n       <use x=\"95.410156\" xlink:href=\"#DejaVuSans-49\"/>\r\n       <use x=\"159.033203\" xlink:href=\"#DejaVuSans-48\"/>\r\n       <use x=\"222.65625\" xlink:href=\"#DejaVuSans-48\"/>\r\n       <use x=\"286.279297\" xlink:href=\"#DejaVuSans-48\"/>\r\n      </g>\r\n     </g>\r\n    </g>\r\n    <g id=\"ytick_5\">\r\n     <g id=\"line2d_10\">\r\n      <g>\r\n       <use style=\"stroke:#000000;stroke-width:0.8;\" x=\"63.146875\" xlink:href=\"#mde62797f11\" y=\"124.963634\"/>\r\n      </g>\r\n     </g>\r\n     <g id=\"text_11\">\r\n      <!-- 0.1025 -->\r\n      <g transform=\"translate(21.15625 128.762853)scale(0.1 -0.1)\">\r\n       <use xlink:href=\"#DejaVuSans-48\"/>\r\n       <use x=\"63.623047\" xlink:href=\"#DejaVuSans-46\"/>\r\n       <use x=\"95.410156\" xlink:href=\"#DejaVuSans-49\"/>\r\n       <use x=\"159.033203\" xlink:href=\"#DejaVuSans-48\"/>\r\n       <use x=\"222.65625\" xlink:href=\"#DejaVuSans-50\"/>\r\n       <use x=\"286.279297\" xlink:href=\"#DejaVuSans-53\"/>\r\n      </g>\r\n     </g>\r\n    </g>\r\n    <g id=\"ytick_6\">\r\n     <g id=\"line2d_11\">\r\n      <g>\r\n       <use style=\"stroke:#000000;stroke-width:0.8;\" x=\"63.146875\" xlink:href=\"#mde62797f11\" y=\"97.405218\"/>\r\n      </g>\r\n     </g>\r\n     <g id=\"text_12\">\r\n      <!-- 0.1050 -->\r\n      <g transform=\"translate(21.15625 101.204437)scale(0.1 -0.1)\">\r\n       <use xlink:href=\"#DejaVuSans-48\"/>\r\n       <use x=\"63.623047\" xlink:href=\"#DejaVuSans-46\"/>\r\n       <use x=\"95.410156\" xlink:href=\"#DejaVuSans-49\"/>\r\n       <use x=\"159.033203\" xlink:href=\"#DejaVuSans-48\"/>\r\n       <use x=\"222.65625\" xlink:href=\"#DejaVuSans-53\"/>\r\n       <use x=\"286.279297\" xlink:href=\"#DejaVuSans-48\"/>\r\n      </g>\r\n     </g>\r\n    </g>\r\n    <g id=\"ytick_7\">\r\n     <g id=\"line2d_12\">\r\n      <g>\r\n       <use style=\"stroke:#000000;stroke-width:0.8;\" x=\"63.146875\" xlink:href=\"#mde62797f11\" y=\"69.846802\"/>\r\n      </g>\r\n     </g>\r\n     <g id=\"text_13\">\r\n      <!-- 0.1075 -->\r\n      <g transform=\"translate(21.15625 73.646021)scale(0.1 -0.1)\">\r\n       <use xlink:href=\"#DejaVuSans-48\"/>\r\n       <use x=\"63.623047\" xlink:href=\"#DejaVuSans-46\"/>\r\n       <use x=\"95.410156\" xlink:href=\"#DejaVuSans-49\"/>\r\n       <use x=\"159.033203\" xlink:href=\"#DejaVuSans-48\"/>\r\n       <use x=\"222.65625\" xlink:href=\"#DejaVuSans-55\"/>\r\n       <use x=\"286.279297\" xlink:href=\"#DejaVuSans-53\"/>\r\n      </g>\r\n     </g>\r\n    </g>\r\n    <g id=\"ytick_8\">\r\n     <g id=\"line2d_13\">\r\n      <g>\r\n       <use style=\"stroke:#000000;stroke-width:0.8;\" x=\"63.146875\" xlink:href=\"#mde62797f11\" y=\"42.288386\"/>\r\n      </g>\r\n     </g>\r\n     <g id=\"text_14\">\r\n      <!-- 0.1100 -->\r\n      <g transform=\"translate(21.15625 46.087605)scale(0.1 -0.1)\">\r\n       <use xlink:href=\"#DejaVuSans-48\"/>\r\n       <use x=\"63.623047\" xlink:href=\"#DejaVuSans-46\"/>\r\n       <use x=\"95.410156\" xlink:href=\"#DejaVuSans-49\"/>\r\n       <use x=\"159.033203\" xlink:href=\"#DejaVuSans-49\"/>\r\n       <use x=\"222.65625\" xlink:href=\"#DejaVuSans-48\"/>\r\n       <use x=\"286.279297\" xlink:href=\"#DejaVuSans-48\"/>\r\n      </g>\r\n     </g>\r\n    </g>\r\n    <g id=\"text_15\">\r\n     <!-- diversity_score -->\r\n     <g transform=\"translate(14.798438 168.538906)rotate(-90)scale(0.1 -0.1)\">\r\n      <defs>\r\n       <path d=\"M 45.40625 46.390625 \r\nL 45.40625 75.984375 \r\nL 54.390625 75.984375 \r\nL 54.390625 0 \r\nL 45.40625 0 \r\nL 45.40625 8.203125 \r\nQ 42.578125 3.328125 38.25 0.953125 \r\nQ 33.9375 -1.421875 27.875 -1.421875 \r\nQ 17.96875 -1.421875 11.734375 6.484375 \r\nQ 5.515625 14.40625 5.515625 27.296875 \r\nQ 5.515625 40.1875 11.734375 48.09375 \r\nQ 17.96875 56 27.875 56 \r\nQ 33.9375 56 38.25 53.625 \r\nQ 42.578125 51.265625 45.40625 46.390625 \r\nz\r\nM 14.796875 27.296875 \r\nQ 14.796875 17.390625 18.875 11.75 \r\nQ 22.953125 6.109375 30.078125 6.109375 \r\nQ 37.203125 6.109375 41.296875 11.75 \r\nQ 45.40625 17.390625 45.40625 27.296875 \r\nQ 45.40625 37.203125 41.296875 42.84375 \r\nQ 37.203125 48.484375 30.078125 48.484375 \r\nQ 22.953125 48.484375 18.875 42.84375 \r\nQ 14.796875 37.203125 14.796875 27.296875 \r\nz\r\n\" id=\"DejaVuSans-100\"/>\r\n       <path d=\"M 41.109375 46.296875 \r\nQ 39.59375 47.171875 37.8125 47.578125 \r\nQ 36.03125 48 33.890625 48 \r\nQ 26.265625 48 22.1875 43.046875 \r\nQ 18.109375 38.09375 18.109375 28.8125 \r\nL 18.109375 0 \r\nL 9.078125 0 \r\nL 9.078125 54.6875 \r\nL 18.109375 54.6875 \r\nL 18.109375 46.1875 \r\nQ 20.953125 51.171875 25.484375 53.578125 \r\nQ 30.03125 56 36.53125 56 \r\nQ 37.453125 56 38.578125 55.875 \r\nQ 39.703125 55.765625 41.0625 55.515625 \r\nz\r\n\" id=\"DejaVuSans-114\"/>\r\n       <path d=\"M 18.3125 70.21875 \r\nL 18.3125 54.6875 \r\nL 36.8125 54.6875 \r\nL 36.8125 47.703125 \r\nL 18.3125 47.703125 \r\nL 18.3125 18.015625 \r\nQ 18.3125 11.328125 20.140625 9.421875 \r\nQ 21.96875 7.515625 27.59375 7.515625 \r\nL 36.8125 7.515625 \r\nL 36.8125 0 \r\nL 27.59375 0 \r\nQ 17.1875 0 13.234375 3.875 \r\nQ 9.28125 7.765625 9.28125 18.015625 \r\nL 9.28125 47.703125 \r\nL 2.6875 47.703125 \r\nL 2.6875 54.6875 \r\nL 9.28125 54.6875 \r\nL 9.28125 70.21875 \r\nz\r\n\" id=\"DejaVuSans-116\"/>\r\n       <path d=\"M 32.171875 -5.078125 \r\nQ 28.375 -14.84375 24.75 -17.8125 \r\nQ 21.140625 -20.796875 15.09375 -20.796875 \r\nL 7.90625 -20.796875 \r\nL 7.90625 -13.28125 \r\nL 13.1875 -13.28125 \r\nQ 16.890625 -13.28125 18.9375 -11.515625 \r\nQ 21 -9.765625 23.484375 -3.21875 \r\nL 25.09375 0.875 \r\nL 2.984375 54.6875 \r\nL 12.5 54.6875 \r\nL 29.59375 11.921875 \r\nL 46.6875 54.6875 \r\nL 56.203125 54.6875 \r\nz\r\n\" id=\"DejaVuSans-121\"/>\r\n      </defs>\r\n      <use xlink:href=\"#DejaVuSans-100\"/>\r\n      <use x=\"63.476562\" xlink:href=\"#DejaVuSans-105\"/>\r\n      <use x=\"91.259766\" xlink:href=\"#DejaVuSans-118\"/>\r\n      <use x=\"150.439453\" xlink:href=\"#DejaVuSans-101\"/>\r\n      <use x=\"211.962891\" xlink:href=\"#DejaVuSans-114\"/>\r\n      <use x=\"253.076172\" xlink:href=\"#DejaVuSans-115\"/>\r\n      <use x=\"305.175781\" xlink:href=\"#DejaVuSans-105\"/>\r\n      <use x=\"332.958984\" xlink:href=\"#DejaVuSans-116\"/>\r\n      <use x=\"372.167969\" xlink:href=\"#DejaVuSans-121\"/>\r\n      <use x=\"431.347656\" xlink:href=\"#DejaVuSans-95\"/>\r\n      <use x=\"481.347656\" xlink:href=\"#DejaVuSans-115\"/>\r\n      <use x=\"533.447266\" xlink:href=\"#DejaVuSans-99\"/>\r\n      <use x=\"588.427734\" xlink:href=\"#DejaVuSans-111\"/>\r\n      <use x=\"649.609375\" xlink:href=\"#DejaVuSans-114\"/>\r\n      <use x=\"688.472656\" xlink:href=\"#DejaVuSans-101\"/>\r\n     </g>\r\n    </g>\r\n   </g>\r\n   <g id=\"line2d_14\">\r\n    <path clip-path=\"url(#p409d68dd48)\" d=\"M 78.365057 32.201761 \r\nL 364.27018 229.874489 \r\nL 382.728693 158.093147 \r\n\" style=\"fill:none;stroke:#1f77b4;stroke-linecap:square;stroke-width:1.5;\"/>\r\n   </g>\r\n   <g id=\"patch_3\">\r\n    <path d=\"M 63.146875 239.758125 \r\nL 63.146875 22.318125 \r\n\" style=\"fill:none;stroke:#000000;stroke-linecap:square;stroke-linejoin:miter;stroke-width:0.8;\"/>\r\n   </g>\r\n   <g id=\"patch_4\">\r\n    <path d=\"M 397.946875 239.758125 \r\nL 397.946875 22.318125 \r\n\" style=\"fill:none;stroke:#000000;stroke-linecap:square;stroke-linejoin:miter;stroke-width:0.8;\"/>\r\n   </g>\r\n   <g id=\"patch_5\">\r\n    <path d=\"M 63.146875 239.758125 \r\nL 397.946875 239.758125 \r\n\" style=\"fill:none;stroke:#000000;stroke-linecap:square;stroke-linejoin:miter;stroke-width:0.8;\"/>\r\n   </g>\r\n   <g id=\"patch_6\">\r\n    <path d=\"M 63.146875 22.318125 \r\nL 397.946875 22.318125 \r\n\" style=\"fill:none;stroke:#000000;stroke-linecap:square;stroke-linejoin:miter;stroke-width:0.8;\"/>\r\n   </g>\r\n   <g id=\"text_16\">\r\n    <!-- Fig 1. Corr Vocab_Size vs Lex_Diversity -->\r\n    <g transform=\"translate(113.949063 16.318125)scale(0.12 -0.12)\">\r\n     <defs>\r\n      <path d=\"M 9.8125 72.90625 \r\nL 51.703125 72.90625 \r\nL 51.703125 64.59375 \r\nL 19.671875 64.59375 \r\nL 19.671875 43.109375 \r\nL 48.578125 43.109375 \r\nL 48.578125 34.8125 \r\nL 19.671875 34.8125 \r\nL 19.671875 0 \r\nL 9.8125 0 \r\nz\r\n\" id=\"DejaVuSans-70\"/>\r\n      <path d=\"M 45.40625 27.984375 \r\nQ 45.40625 37.75 41.375 43.109375 \r\nQ 37.359375 48.484375 30.078125 48.484375 \r\nQ 22.859375 48.484375 18.828125 43.109375 \r\nQ 14.796875 37.75 14.796875 27.984375 \r\nQ 14.796875 18.265625 18.828125 12.890625 \r\nQ 22.859375 7.515625 30.078125 7.515625 \r\nQ 37.359375 7.515625 41.375 12.890625 \r\nQ 45.40625 18.265625 45.40625 27.984375 \r\nz\r\nM 54.390625 6.78125 \r\nQ 54.390625 -7.171875 48.1875 -13.984375 \r\nQ 42 -20.796875 29.203125 -20.796875 \r\nQ 24.46875 -20.796875 20.265625 -20.09375 \r\nQ 16.0625 -19.390625 12.109375 -17.921875 \r\nL 12.109375 -9.1875 \r\nQ 16.0625 -11.328125 19.921875 -12.34375 \r\nQ 23.78125 -13.375 27.78125 -13.375 \r\nQ 36.625 -13.375 41.015625 -8.765625 \r\nQ 45.40625 -4.15625 45.40625 5.171875 \r\nL 45.40625 9.625 \r\nQ 42.625 4.78125 38.28125 2.390625 \r\nQ 33.9375 0 27.875 0 \r\nQ 17.828125 0 11.671875 7.65625 \r\nQ 5.515625 15.328125 5.515625 27.984375 \r\nQ 5.515625 40.671875 11.671875 48.328125 \r\nQ 17.828125 56 27.875 56 \r\nQ 33.9375 56 38.28125 53.609375 \r\nQ 42.625 51.21875 45.40625 46.390625 \r\nL 45.40625 54.6875 \r\nL 54.390625 54.6875 \r\nz\r\n\" id=\"DejaVuSans-103\"/>\r\n      <path id=\"DejaVuSans-32\"/>\r\n      <path d=\"M 64.40625 67.28125 \r\nL 64.40625 56.890625 \r\nQ 59.421875 61.53125 53.78125 63.8125 \r\nQ 48.140625 66.109375 41.796875 66.109375 \r\nQ 29.296875 66.109375 22.65625 58.46875 \r\nQ 16.015625 50.828125 16.015625 36.375 \r\nQ 16.015625 21.96875 22.65625 14.328125 \r\nQ 29.296875 6.6875 41.796875 6.6875 \r\nQ 48.140625 6.6875 53.78125 8.984375 \r\nQ 59.421875 11.28125 64.40625 15.921875 \r\nL 64.40625 5.609375 \r\nQ 59.234375 2.09375 53.4375 0.328125 \r\nQ 47.65625 -1.421875 41.21875 -1.421875 \r\nQ 24.65625 -1.421875 15.125 8.703125 \r\nQ 5.609375 18.84375 5.609375 36.375 \r\nQ 5.609375 53.953125 15.125 64.078125 \r\nQ 24.65625 74.21875 41.21875 74.21875 \r\nQ 47.75 74.21875 53.53125 72.484375 \r\nQ 59.328125 70.75 64.40625 67.28125 \r\nz\r\n\" id=\"DejaVuSans-67\"/>\r\n      <path d=\"M 28.609375 0 \r\nL 0.78125 72.90625 \r\nL 11.078125 72.90625 \r\nL 34.1875 11.53125 \r\nL 57.328125 72.90625 \r\nL 67.578125 72.90625 \r\nL 39.796875 0 \r\nz\r\n\" id=\"DejaVuSans-86\"/>\r\n      <path d=\"M 53.515625 70.515625 \r\nL 53.515625 60.890625 \r\nQ 47.90625 63.578125 42.921875 64.890625 \r\nQ 37.9375 66.21875 33.296875 66.21875 \r\nQ 25.25 66.21875 20.875 63.09375 \r\nQ 16.5 59.96875 16.5 54.203125 \r\nQ 16.5 49.359375 19.40625 46.890625 \r\nQ 22.3125 44.4375 30.421875 42.921875 \r\nL 36.375 41.703125 \r\nQ 47.40625 39.59375 52.65625 34.296875 \r\nQ 57.90625 29 57.90625 20.125 \r\nQ 57.90625 9.515625 50.796875 4.046875 \r\nQ 43.703125 -1.421875 29.984375 -1.421875 \r\nQ 24.8125 -1.421875 18.96875 -0.25 \r\nQ 13.140625 0.921875 6.890625 3.21875 \r\nL 6.890625 13.375 \r\nQ 12.890625 10.015625 18.65625 8.296875 \r\nQ 24.421875 6.59375 29.984375 6.59375 \r\nQ 38.421875 6.59375 43.015625 9.90625 \r\nQ 47.609375 13.234375 47.609375 19.390625 \r\nQ 47.609375 24.75 44.3125 27.78125 \r\nQ 41.015625 30.8125 33.5 32.328125 \r\nL 27.484375 33.5 \r\nQ 16.453125 35.6875 11.515625 40.375 \r\nQ 6.59375 45.0625 6.59375 53.421875 \r\nQ 6.59375 63.09375 13.40625 68.65625 \r\nQ 20.21875 74.21875 32.171875 74.21875 \r\nQ 37.3125 74.21875 42.625 73.28125 \r\nQ 47.953125 72.359375 53.515625 70.515625 \r\nz\r\n\" id=\"DejaVuSans-83\"/>\r\n      <path d=\"M 9.8125 72.90625 \r\nL 19.671875 72.90625 \r\nL 19.671875 8.296875 \r\nL 55.171875 8.296875 \r\nL 55.171875 0 \r\nL 9.8125 0 \r\nz\r\n\" id=\"DejaVuSans-76\"/>\r\n      <path d=\"M 54.890625 54.6875 \r\nL 35.109375 28.078125 \r\nL 55.90625 0 \r\nL 45.3125 0 \r\nL 29.390625 21.484375 \r\nL 13.484375 0 \r\nL 2.875 0 \r\nL 24.125 28.609375 \r\nL 4.6875 54.6875 \r\nL 15.28125 54.6875 \r\nL 29.78125 35.203125 \r\nL 44.28125 54.6875 \r\nz\r\n\" id=\"DejaVuSans-120\"/>\r\n      <path d=\"M 19.671875 64.796875 \r\nL 19.671875 8.109375 \r\nL 31.59375 8.109375 \r\nQ 46.6875 8.109375 53.6875 14.9375 \r\nQ 60.6875 21.78125 60.6875 36.53125 \r\nQ 60.6875 51.171875 53.6875 57.984375 \r\nQ 46.6875 64.796875 31.59375 64.796875 \r\nz\r\nM 9.8125 72.90625 \r\nL 30.078125 72.90625 \r\nQ 51.265625 72.90625 61.171875 64.09375 \r\nQ 71.09375 55.28125 71.09375 36.53125 \r\nQ 71.09375 17.671875 61.125 8.828125 \r\nQ 51.171875 0 30.078125 0 \r\nL 9.8125 0 \r\nz\r\n\" id=\"DejaVuSans-68\"/>\r\n     </defs>\r\n     <use xlink:href=\"#DejaVuSans-70\"/>\r\n     <use x=\"50.269531\" xlink:href=\"#DejaVuSans-105\"/>\r\n     <use x=\"78.052734\" xlink:href=\"#DejaVuSans-103\"/>\r\n     <use x=\"141.529297\" xlink:href=\"#DejaVuSans-32\"/>\r\n     <use x=\"173.316406\" xlink:href=\"#DejaVuSans-49\"/>\r\n     <use x=\"236.939453\" xlink:href=\"#DejaVuSans-46\"/>\r\n     <use x=\"268.726562\" xlink:href=\"#DejaVuSans-32\"/>\r\n     <use x=\"300.513672\" xlink:href=\"#DejaVuSans-67\"/>\r\n     <use x=\"370.337891\" xlink:href=\"#DejaVuSans-111\"/>\r\n     <use x=\"431.519531\" xlink:href=\"#DejaVuSans-114\"/>\r\n     <use x=\"470.882812\" xlink:href=\"#DejaVuSans-114\"/>\r\n     <use x=\"511.996094\" xlink:href=\"#DejaVuSans-32\"/>\r\n     <use x=\"543.783203\" xlink:href=\"#DejaVuSans-86\"/>\r\n     <use x=\"604.441406\" xlink:href=\"#DejaVuSans-111\"/>\r\n     <use x=\"665.623047\" xlink:href=\"#DejaVuSans-99\"/>\r\n     <use x=\"720.603516\" xlink:href=\"#DejaVuSans-97\"/>\r\n     <use x=\"781.882812\" xlink:href=\"#DejaVuSans-98\"/>\r\n     <use x=\"845.359375\" xlink:href=\"#DejaVuSans-95\"/>\r\n     <use x=\"895.359375\" xlink:href=\"#DejaVuSans-83\"/>\r\n     <use x=\"958.835938\" xlink:href=\"#DejaVuSans-105\"/>\r\n     <use x=\"986.619141\" xlink:href=\"#DejaVuSans-122\"/>\r\n     <use x=\"1039.109375\" xlink:href=\"#DejaVuSans-101\"/>\r\n     <use x=\"1100.632812\" xlink:href=\"#DejaVuSans-32\"/>\r\n     <use x=\"1132.419922\" xlink:href=\"#DejaVuSans-118\"/>\r\n     <use x=\"1191.599609\" xlink:href=\"#DejaVuSans-115\"/>\r\n     <use x=\"1243.699219\" xlink:href=\"#DejaVuSans-32\"/>\r\n     <use x=\"1275.486328\" xlink:href=\"#DejaVuSans-76\"/>\r\n     <use x=\"1329.449219\" xlink:href=\"#DejaVuSans-101\"/>\r\n     <use x=\"1389.222656\" xlink:href=\"#DejaVuSans-120\"/>\r\n     <use x=\"1448.402344\" xlink:href=\"#DejaVuSans-95\"/>\r\n     <use x=\"1498.402344\" xlink:href=\"#DejaVuSans-68\"/>\r\n     <use x=\"1575.404297\" xlink:href=\"#DejaVuSans-105\"/>\r\n     <use x=\"1603.1875\" xlink:href=\"#DejaVuSans-118\"/>\r\n     <use x=\"1662.367188\" xlink:href=\"#DejaVuSans-101\"/>\r\n     <use x=\"1723.890625\" xlink:href=\"#DejaVuSans-114\"/>\r\n     <use x=\"1765.003906\" xlink:href=\"#DejaVuSans-115\"/>\r\n     <use x=\"1817.103516\" xlink:href=\"#DejaVuSans-105\"/>\r\n     <use x=\"1844.886719\" xlink:href=\"#DejaVuSans-116\"/>\r\n     <use x=\"1884.095703\" xlink:href=\"#DejaVuSans-121\"/>\r\n    </g>\r\n   </g>\r\n  </g>\r\n </g>\r\n <defs>\r\n  <clipPath id=\"p409d68dd48\">\r\n   <rect height=\"217.44\" width=\"334.8\" x=\"63.146875\" y=\"22.318125\"/>\r\n  </clipPath>\r\n </defs>\r\n</svg>\r\n",
      "image/png": "[encoded data removed]"
     },
     "metadata": {
      "needs_background": "light"
     }
    }
   ],
   "source": [
    "import seaborn as sns\n",
    "sns.lineplot(data=lexical_summary_df, x=\"vocab_size\", y=\"diversity_score\").set_title('Fig 1. Corr Vocab_Size vs Lex_Diversity')"
   ]
  },
  {
   "cell_type": "markdown",
   "metadata": {},
   "source": [
    "We can see that interestingly, the more \"advanced\" the text books (comparing 3rd grade books to 7th grade books\") becomes, the less diverse the vocabulary actually gets. This phenomenon has actually been researched ([Source](https://lps.library.cmu.edu/LDR/article/id/77/)) and found that the lexical richness found in children's books is actually very strong in terms of the use of verbs whereas books directed towards an older audience (7th grade) is more abstract in the uses of entities rather words.\n",
    "\n",
    "There is also a very clear distinction separate from lexical diversity that shows an increase in the vocabulary size as the grade level of the books increases. Finding the correlation between the **raw_word_count** which provides us a pre-tokenzed version of the text and the tokenized version of the **vocab_size provides** a very high correaltion (.98) demonstrating that the two share a strong relationship. However, we can see that though the raw_word_count increases, the tokenized vocab_size actually increase then decreases from 5th to 7th grade suggesting a non-linear relationship between the vocab_size and the text's lexical diversity.\n",
    "\n",
    "Now that the relationship between vocabulary size (tokenized) and the lexical diversity has been established, we want to answer the question: does vocab size and lexical diveristy measure text difficulty better individually or together holistically? From the evidence, we can see that the two attributes have a relationship but one that isn't strong enough to omit one or the other entirely as a measurement of text difficulty. Given the non-linear relationship we can visually observe in Fig 1., I'd argue that to measure text difficulty, it's best to use both of these properties of text together. "
   ]
  },
  {
   "cell_type": "markdown",
   "metadata": {},
   "source": [
    "# Homework 2\n",
    "\n",
    "<u>**HW 2:**</u>\n",
    "\n",
    "1. In Python, create a method for scoring the vocabulary size of a text, and normalize the score from 0 to 1. It does not matter what method you use for normalization as long as you explain it in a short paragraph. (Various methods will be discussed in the live session.)\n",
    "\n",
    "2.\tAfter consulting section 3.2 in chapter 1 of Bird-Klein, create a method for scoring the long-word vocabulary size of a text, and likewise normalize (and explain) the scoring as in step 1 above.\n",
    "\n",
    "3.\tNow create a “text difficulty score” by combining the lexical diversity score from homework 1, and your normalized score of vocabulary size and long-word vocabulary size, in equal weighting (averages). Explain what you see when this score is applied to same graded texts you used in homework 1."
   ]
  },
  {
   "cell_type": "markdown",
   "metadata": {},
   "source": [
    "### Defining \"long-word vocabulary\" \n",
    "Using our prior work, we will first re-define what **\"long-word\"** vocabulary is for clarity. Recalling some of our earlier built function attributes, long-word is equivalent of what we defined as **vocab_size** which contains the tokenized version of the text, including all unique words found in the corpora. "
   ]
  },
  {
   "cell_type": "markdown",
   "metadata": {},
   "source": [
    "#### Example long-word vocab using text1 (The Project Gutenberg EBook of McGuffey's Third Eclectic Reader)"
   ]
  },
  {
   "cell_type": "code",
   "execution_count": 27,
   "metadata": {
    "tags": [
     "outputPrepend"
    ]
   },
   "outputs": [
    {
     "output_type": "stream",
     "name": "stdout",
     "text": [
      " 'faded', 'clime', 'figure', 'letters', 'blood', 'complying', 'quantity', 'feet', 'encountered', 'especially', 'house', 'shelter', 'woe', 'warrior', 'sorrowfully', 'into', 'v.', 'frank', 'berries', 'hyphen', 'rosy-red', \"'\", 'prefer', 'scenes', 'tray', 'tail', 'beginning', 'herself', 'cares', 'violates', 'computers', 'against', 'done', 'rubbed', 'comply', 'colophon', '29', 'echo', 'master', '139', 'sod', '196', 'travels', 'corrupt', 'coarse-looking', \"'d\", 'denotes', 'blossom', 'terrier', 'teased', 'xliii', 'boy', 'constructed', '155', 'different', 'whit', 'sprang', 'bayonet', 'commercial', 'supposing', 'doubt', 'cotton', 'gingerbread', 'crack', 'fragrant', 'feel', 'united', 'surrender', 'i.', 'back', 'river', 'sleeves', 'ninepins', 'unto', 'humming', 'hunted', '185', 'street', 'corner', 'taken', 'forgotten', 'roof', 'ak', '1.f.6', 'possessed', 'be-cause', 'bravely', 'sudden', '10.', '46.', '36.', 'ship', 'apart', 'whom', 'years', '//www.pglaf.org', 'flew', 'roused', 'own', 'say', 'drawn', '809', 'posted', 'seek', 'evenings', 'specific', 'containing', 'described', 'indemnify', 'confessing', 'mount', 'paragraphs', 'vanilla', 'daily', '14', 'send', 'positive', 'boys', 'pool', 'bursting', '31', 'glorious', 'companions', 'places', 'nigh', 'lieu', 'listen', 'stretched', '152', 'yours', 'chips', 'knees', 'friendly', '``', 'largest', 'squirrels', 'paragraph', 'table', 'redistribution', 'down', 'special', 'supposed', 'amusing', 'liked', 'weep', 'whence', 'ago', '1.f.4', 'wounded', 'vi', 'her', 'since', 'sinking', 'weakness', 'guides', 'afternoon', 'demand', 'bathe', 'castles', 'groups', 'cornstarch', 'lxxiv', 'payments', 'beg', 'eves', 'shaft', 'rage', 'array', '203', '78.', 'off', 'muskets', 'these', 'tap', 'pouting', '173', '124', 'peeping', 'placed', '40', 'gift', 'crevices', 'lifetime', 'regular', 'clearly', 'confused', 'allison', 'friend', 'cool', 'wake', 'depth', 'task', 'named', 'capered', 'buttercup', 'xlvii', 'sent', 'xxi', 'neat', 'led', 'offered', 'dawns', 'clothed', '501', 'lvii', 'washington', 'commerce', '91', '//pglaf.org', 'in', 'wash', 'distance', 'lose', 'columbus', 'pglaf.org', '--', '101', 'desire', 'errands', 'dean', 'arise', 'sorry', 'methods', 'firmly', 'bounds', 'reminded', 'who', 'schoolmates', 'eclectic', 'lambs', \"'see\", 'cooling', 'pauses', 'many', 'b.', 'comes', 'intending', 'find', 'brim', 'rags', 'squirrel', 'uncle', '1.b', 'don', '16', '18', 'products', 'string', 'shade', '61', 'evident', 'hominy', '190', 'eagerly', 'xvi', 'includes', 'examining', 'none', 'lily', 'rake', 'brick', 'keeps', 'whenever', 'writer', 'threw', 'ear', 'active', 'others', 'accept', 'cheap', '106', 'lad', 'eaves', 'abbreviation', 'xxxv', 'onward', 'good-by', 'silent', '[', 'chief', 'nay', 'waste', '40.', 'mar', 'concluded', 'closed', 'shades', 'lake', 'dull', \"i'll-\", 'might', 'modesty', 'meadows', 'rising', 'performances', 'redistribute', '//pglaf.org/fundraising', 'bowls', 'file', 'transcriber', 'counsel', 'deep', 'derived', 'wordsworth', 'clerk', 'turns', 'crutches', 'seconds', '56.', 'quickly', '116', '14766.txt', 'latter', 'spring', '26', 'scampered', 'subvocals', '2', 'third', '102', 'hire', 'failing', 'greatly', 'miss', 'springs', 'paints', 'loss', '157', '34.', 'practiced', 'seeds', 'exercise', 'editions', 'walked', 'weigh', 'early', 'and', \"'beware\", 'steady', 'conway', 'vacations', 'status', 'struggling', 'planks', 'though', '52', 'perfectly', 'swaying', 'waited', 'exploring', 'finger', 'seventy', 'deletions', 'george', 'deal', 'well-behaved', 'dorr', 'pail', 'afraid', 'accordance', 'xxxi', 'cold', 'eight', 'brisbane', 'same', 'sugarplum', 'angels', '23', '159', 'higher', 'substitutes', 'rewarded', 'stockings', 'cause', 'sick', 'gentle', 'slate', 'children', 'noble', 'gives', 'stay', 'tripped', 'maximum', 'notes', 'reflected', 'sticks', 'necessary', 'hillside', 'questions', 'blew', 'understand', 'hidden', 'agreed', 'least', 'moisture', 'called', 'were', '74.', 'thus', 'fiercely', 'name', 'mighty', 'turned', 'experienced', 'grove', 'rustling', 'including', 'definitions', 'xxix', 'streamer-like', '1.e.7', 'understood', 'court', 'dashed', 'fault', 'win', 'laughing', 'dressed', 'stroked', 'tree', 'die', 'gazed', 'yard', '1', 'merchant', 'paid', 'sunset', 'good-', 'accessed', 'walking', 'baskets', 'through', 'distributed', 'selfish', 'widest', 'toronto', 'helped', 'license', '1896', 'puss', 'snowy', 'angry', 'ascend', 'goals', 'italics', 'sold', 'ere', '176', 'throwing', 'corn', '51.', 'coat', 'occasions', 'fishes', 'redistributing', 'flows', 'considerable', 'knife', 'alarm', 'thousands', 'rapid', 'mischief', 'foot', 'coldness', 'lost', 'shy', 'flower', 'wall', 'yes', 'fooled', 'flowed', 'mary', 'enables', 'every', 'exempt', 'person', 'look', 'soldiers', 'carriage', 'persevere', 'admire', 'perfume', 'for', 'miles', 'glossy', 'desk', 'finished', 'toy', 'guard', 'rice', 'harmless', 'papa', 'ii', 'its', 'hallow', 'mountain', 'fitness', 'resolved', 'reply', '3', 'away', '160', 'knocking', 'important', 'internal', \"friend's\", 'dart', 'lxxvi', 'xxvi', 'lilies', 'patting', 'sure', 'usual', 'lot', 'hungry', 'big', 'lvi', 'buy', 'xiii', 'lxiii', 'proud', 'gate', '166', 'promoting', '1.e.1', 'amount', 'meat', 'dow', 'dictionary', 'fierce', 'souls', 'derivative', 'sheep', 'electronic', 'irs', '1.f.2', 'prosper', 'admiring', 'castle-building', 'cheerfully', 'flying', 'easily', 'lasts', 'pinned', '1920', 'playthings', 'pocket', 'hand', 'fail', 'immediate', '1.f.1', 'saved', 'middle-aged', 'talking', 'forgive', 'gutenberg-tm', 'started', '151', 'bathing', 'pass', 'blue', 'violets', 'collection', 'knows', 'hardly', 'track', 'some', 'message', 'upward', 'whatever', 'countries', 'further', 'produce', 'rabbit', 'tore', 'smallest', 'bashful', '1879', 'defective', 'whip', 'readable', 'beams', 'punitive', 'angrily', 'introductory', 'fred', 'incomplete', 'arose', 'cedar', 'ruling', 'prison', 'busy', 'doing', 'sunny', 'drink', 'my', 'hurt', 'cautiously', 'sparkle', 'xi', 'prisoner', 'spending', '73.', 'valley', 'nose', 'hid', 'lxxi', 'although', 'howling', 'cozy', 'bird', 'ha', '53.', 'spot', 'registered', 'hypertext', 'ears', 'rude', 'obsolete', 'youngest', 'squeal', 'throw', 'mattresses', '45.', 'screams', 'note', 'trying', 'specialized', 'elementary', 'horses', 'showed', 'eastern', 'removed', 'building', 'breakfast', '35', 'small', 'wind', 'way', 'fish', 'riding', '161', '(', '17', 'fails', 'turn', 'difficulty', 'timid', 'fond', 'afterwards', 'assist', 'mg', 'attached', 'show', 'charlie', 'skin', 'lxi', 'paying', '153', 'ribbon', 'cost', 'beast', 'within', 'shout', 'crumbs', 'pale', 'federal', '43', 'cathedral', 'else', 'earning', 'enters', 'brothers', 'found', 'clubs', 'dawn', 'dreamers', 'finish', 'need', 'rejoiced', 'required', 'flock', 'portion', 'feared', 'those', 'top', 'suppose', 'to-day', 'frozen', 'unfeeling', 'overcome', 'delicate', 'solicit', 'destroy', 'cut', 'stock', 'crossing', 'quench', 'staid', 'kitty', 'provide', 'folding', 'native', 'pitiful', 'dying', 'splendid', 'wanted', 'end', 'often', 'silk', 'langford', 'hens', 'thirsty', 'network', 'costs', 'specified', 'place', \"'ve\", 'yellow', 'pull', 'z7', 'field', 'bonus', 'across', 'unenforceability', 'pulled', 'case', 'sale', 'said', 'accident', 'amy', 'autumn', 'delighted', 'story', 'left', 'kiss', '53', 'indicate', 'twenty', 'cutting', 'upstairs', 'enlist', 'thinks', ')', 'barrels', 'color', 'slam', 'danger', 'powdery', 'user', 'remaining', 'believed', '2.', 'toast', 'are', 'already', 'castle', 'crest', 'ah', 'pavement', 'surround', 'introduced', 'gnaw', 'forge', 'london', 'terribly', 'pleases', 'dandy', '204', 'sunshine', 'previous', 'arm', 'trickle', 'comet', 'bid', 'such', 'clock', 'bless', 'cockerel', 'appears', 'baked', 'hill', 'lecturer', 'despite', 'eyelids', 'locomotive', 'maker', 'clever', '114', 'thickest', 'thine', 'wood', 'lifting', 'swim', 'additional', 'waxeth', 'employee', 'mat', 'neck', 'bookstore', 'rover', 'sofa', 'coming', 'resist', 'rarely', 'suddenly', 'hearing', 'mice', 'chords', 'leave', 'identification', 'quiet', 'grains', 'wondering', 'www.gutenberg.org', 'size', '36', 'xxxii', 'mind', 'bare', 'character', 'shape', 'white', 'ripeness', 'xli', 'royalty', 'daydreams', 'rose', 'wishing', 'vine', 'dusted', 'limped', '186', 'fireside', 'fastened', 'invention', 'accents', 'indies', 'foothold', 'appear', '112', 'spinning', 'exclamation', 'increasing', 'reported', 'site', 'unseen', 'beating', 'lips', 'opening', 'twice', 'scold', 'expenses', 'most', 'truly', 'turnip', 'drank', '5', 'pupils', 'language', 'ripest', 'apostrophe', 'schoolmate', 'studies', 'chestnut', 'labor', 'mildly', '308', 'transcribe', 'wished', 'actions', 'seldom', '4', 'overflowing', 'always', '28', 'parcels', 'whistle', 'running', 'pretend', 'distribute', '6.', 'cry', 'job', 'butter', 'pitched', 'information', 'heath', 'proving', 'thanked', 'paddling', 'armor', 'damaged', 'know', 'mocking', 'myself', 'aim', 'following', 'wakeful', 'book', 'sin', 'sultry', 'singer', 'incidental', 'get', 'van', 'distress', '..', 'compilation', 'opportunity', 'drew', 'theater', 'missing', 'fondly', 'knowledge', 'gravel', 'burneth', 'dried', 'bridge', 'glass', 'rather', \"'as-is\", 'alone', 'm.', 'include', 'body', 'script', 'stroke', 'julia', 'hastened', 'agreement', 'remember', 'alike', 'charges', 'require', 'speak', 'sang', 'written', 'tuneful', 'clustered', 'wakes', 'stupid', 'version', 'this', 'guessed', 'made', 'bark', 'prominently', 'class', 'dishes', 'now', 'snowflake', 'disturb', 'hereafter', '64', '120', 'blade', 'dough', 'warranties', 'hundred', 'wise', 'f.', 'opened', '//www.gutenberg.org/1/4/7/6/14766/', 'dollars', '66', '39.', 'planting', 'gutter', 'eat', 'compliment', 'attention', 'learn', 'shamefully', 'parched', 'stress', 'streets', 'letter', 'direct', 'you', 'void', 'suit', 'yesterday', '193', 'seem', 'changing', 'comforteth', 'melody', 'lance', 'loaded', 'sweetest', 'falls', 'truth', \"e'er\", 'survive', 'volume', 'break', 'schoolroom', 'creatures', 'turkeys', 'miserable', 'winds', 'pleased', 'retorted', 'note.-the', 'both', 'german', 'liability', 'lifted', '1.', 'gave', 'had', 'aweary', 'ix', 'coward', 'o.', 'people', 'sawing', 'preserve', 'based', 'tucked', 'tricks', 'quarter', 'diphthongs', 'rapidly', 'lenox', 'second', 'owner', 'will', 'chamber', 'easier', 'cheerful', 'graves', 'performed', 'battle', 'employees', 'shore', 'wires', 'supply', 'should', 'girl', 'teddy', 'archive', 'home', 'naturedly', 'hearts', 'new-year', 'feeds', 'beyond', 'caper', '22.', 'page', '9', 'has', 'permanent', 'library', 'hours', 'drops', 'by', '76', 'market', 'directly', 'apt', \"ma'am\", '\\ufeffthe', 'mastery', 'bones', 'web', 'calculate', 'died', 'foes', 'saw', 'winked', 'driven', 'representations', 'malformation', 'falsehood', 'word', '200', 'country', 'harm', 'earned', 'rivers', 'image', 'frost', 'bolder', 'pick', 'snowball', 'glee', 'stored', 'mule', 'deceived', 'lower', 'ca', 'daughter', 'amazed', 'school', 'beds', 'hobgoblin', 'pencil', 'parts', 'slanting', 'till', 'gratitude', 'fool', 'glow', '89', 'public', 'tenderness', 'punished', 'once', 'follow', 'simply', 'height', 'burs', 'moral', 'noise', 'beard', 'lack', '142', 'somewhat', 'woods', 'playful', 'lii', 'tearful', 'chasing', 'fisherman', 'everybody', 'receiving', 'tied', 'lend', 'thc', 'somebody', 'risen', 'broad-brimmed', 'shrink', 'worm', 'plant', 'rained', 'melan', 'yourselves', 'xxviii', 'lxxvii', '69.', 'without', 'moss', 'plan', 'xxxvi', '33.', 'holder', 'start', 'owns', '596-1887', 'sirup', 'madness', 'iv', 'defending', 'difficult', 'sparkling', 'lawns', 'may', 'met', 'tell', 'presents', 'text', 'scatter', 'ought', 'sugar', 'beads', 'gone', 'nonproprietary', 'innocent', 'carried', 'sweetly', 'defect', 'theirs', 'bat', 'missed', 'article', 'familiar', 'cheese', 'earnestly', 'melts', 'quarts', 'sentences', 'debts', 'dandelions', 'want', 'wrath', 'imposed', 'grey', 'anybody', 'stones', 'lies', 'hide', 'dumb', 'widely', 'tongue', 'dash', 'intelligence', 'brush', 'sot', 'his', 'husks', 'claws', 'border', '1.f', 'line', 'legally', 'minute', 'have', '4.', 'xvii', 'faithfully', 'balance', 'lxv', 'tiresome', 'finest', 'pout', 'observed', 'longer', 'happiest', 'pie', 'marks', 'clocks', '128', 'splash', 'truant', 'unwilling', 'supper', 'weight', 'maid', '197', 'leap', 'instruction', 'forward', 'compassion', \"'ll\", 'creeping', 'burritt', 'basket', 'shine', 'routed', 'time', 'cakes', '7', 'front', 'skies', 'heedlessly', 'search', 'also', 'agent', 'reader', 'step', 'toss', 'turning', 'credit', 'utter', 'weinheim', '110', 'flight', 'rest', 'adams', 'rots', 'financial', 'son', '93', 'gold', 'seemed', 'fibers', 'kindling', 'kindly', 'swamp', 'yards', 'xviii', 'baker', 'associated', 'wo', 'ques-tion', 'hen', 'weapons', '44', 'oh', 'parlor', 'sweeps', '1.a', 'newby', 'storm', 'can', 'toiled', 'growth', '26.', 'morning', 'elder', '150', 'plumes', 'cows', 'eyes', 'roman', 'doubtless', 'intend', 'gain', 'cultivated', '1.e.6', 'roy', 'lxviii', 'sets', 'sections', 'nearer', 'ugly', 'weak', 'teaches', 'month', '51', 'dreadful', 'again', 'heap', 'approached', 'coaxing', 'echoing', 'rattling', 'guards', 'laid', 'series', 'murphy', 'therefore', 'peevish', 'aid', 'reproach', 'think', 'four', 'included', 'looked', 'tea', 'thoughtful', 'trademarks', 'xix', 'forges', 'remains', 'put', 'taste', 'earth', 'grammatical', '42', 'bread', 'sturdy', 'hoping', '189', 'streaks', 'iron', '57', 'loose', 'seven', 'war', 'causes', 'saying', 'bayonets', 'gentleman', '41', 'braided', 'not', 'donation', 'taught', 'was', 'killed', 'constitutes', 'mullein', 'belonged', 'awoke', 'clouds', 'because', 'accounts', 'wisest', '75', 'peace', 'lxxviii', 'pressed', 'peter', 'barefooted', '143', '1.e.8', 'pglaf', 'scatters', 'hot', 'scarlet', 'grass', 'beak', 'blazing', 'faithful', '49.', 'furnished', 'refuse', 'aloud', 'unhappy', 'determine', 'pages', 'sat', 'swiftly', 'axes', 'red', 'seeing', 'tread', 'wear', 'daisies', 'did', 'nor', 'praises', 'leather', 'thibet', 'babies', '//www.gutenberg.org', '134', 'gratefully', 'entered', 'does', 'here', 'creamy', 'as', 'surely', 'kostuch', 'articulation', 'tones', 'steps', 'ropes', 'modest', 'charge', 'viewing', 'thornton', 'execution', 'swears', 'berry', '27', 'mood', 'says', 'peep', 'graced', '14766', 'li', 'genie', 'a', 'pieces', 'of', '99712.', '168', 'blow', 'climate', 'pur', 'sunlight', 'wail', '118', 'fasten', 'lxvi', 'noticed', 'scarce', 'swept', 'cottage', 'we', 'hut', 'around', 'holy', 'secure', 'bright', 'several', 'wish', 'viewed', 'whittier', 'shocking', 'mile', 'count', 'days', 'sailor', 'buds', 'idleness', '$', 'pens', \"'re\", 'lectures', 'limitation', 'pretty', 'material', 'what', 'displaying', 'deductible', 'quotation', 'pshaw', 'dollar', 'cap', 'last', 'wheels', 'fill', 'explanation', 'sons', 'shoulder', 'towards', 'sawed', 'folly', 'forest', 'repeat', '29.', 'worth', 'never', 'tables', 'thought', 'drills', 'pouted', 'testament', 'grow', 'figuring', 'conduct', 'looking', 'fort', 'extend', 'block', 'heart', '37', 'dolls', 'nicely', 'come', 'broom', 'pictures', '21', 'aspirates', 'captain', 'xxiv', 'wound', 'feast', 'roofs', 'permit', 'asia', 'variety', 'far', 'neighbors', 'cage', 'houses', 'queer', '30', 'arms', 'bend', 'wooden', 'stating', 'wondrous', 'plunged', 'detach', \"mother's\", 'sum', 'rise', 'manners', 'quarreled', 'given', 'hour', 'soil', '165', 'blind', 'king', 'face', '154', 'rolling', '115', 'much', '111', 'folks', 'itself', 'conquer', '122', 'tavern', 'possible', 'between', 's/he', 'thief', 'contented', 'corporation', 'oral', 'piece', 'swing', 'ill-behaved', 'farmyard', 'erring', 'still', 'anyone', 'death', 'shown', 'stern', 'interrupt', 'indicated', '3,6', 'particularly', 'using', '182', 'distributing', 'brow', 'copied', 'chirp', 'piercing', 'mats', '61.', 'room', 'production', 'crime', 'jane', 'blackberries', 'u.s.', 'leaving', 'pond', 'black', 'thirty', 'sterner', 'rent', 'invite', 'lix', 'walks', 'fairy', 'sorrowful', 'inquire', 'holes', 'willing', 'guarded', 'cup', 'chiefly', 'emphasizing', 'rowdy', 'rapping', 'paperwork', '68.', 'rev', 'quadruped', 'kindness', 'cards', 'shame', 'tossed', 'fires', '31.', 'matches', 'waves', 're-use', 'lovely', 'insects', 'warmest', 'heavy', 'ye', 'singapore', 'popularity', 'below', 'provided', 'enough', 'snowflakes', 'contest', 'commandment', 'used', 'talk', 'vowed', 'safely', 'compliance', 'rocking-chair', 'hands', 'sounds', 'passed', 'twig', 'prepared', 'ate', 'sand', '86', 'making', 'rocked', 'quietly', 'quick', 'calls', 'cuts', 'bowl', 'bear', 'beaver', 'shooting', 'swampy', '6', 'forepaws', 'beside', 'attend', 'applicable', '131', 'antwerp', 'peck', 'ashamed', 'pathways', 'told', 'forgetting', 'plants', 'prisoners', 'disliked', 'tassel', 'things', 'properly', 'protruded', 'long', 'stood', 'chicken', 'carne', 'blockhouse', 'favorite', '129', \"'therefore\", 'taking', 'helen', 'colored', 'liii', 'aiken', 'laugh', 'wheeled', 'dies', 'hurried', 'spoken', 'asci', 'bats', '56', 'prayer', 'greatest', 'mission', 'bedpost', 'brows', 'struggled', 'hat', '3,3', 'locks', 'continued', 'eldest', '156', '1.f.5', 'thicker', 'washed', 'loaf', 'june', 'transcription', 'educational', 'cruel', 'valleys', 'doer', 'writing', 'hers', 'kingdom', 'felt', 'comets', 'torn', 'darlings', 'newfoundland', 'clear', 'smiling', 'thaxter', 'learned', 'divided', '92', 'prohibition', 'immediately', '28.', 'freezes', 'elect', 'greater', '148', 'deserved', 'coiled', 'ramrods', 'licensed', 'silver', 'their', 'prize', 'during', '14766.zip', 'refund', 'cooper', 'nerve', 'insisting', 'pelt', 'trees', 'husband', 'refresh', 'groped', 'year', 'numerous', 'principles', 'joy', 'obey', 'gracie', 'pocketknife', 'carry', 'animals', 'pisa', 'property', 'owned', '47.', 'waters', 'drill', '167', 'meet', 'rhyme', 'vocals', 'display', 'counted', 'disturbing', 'rugged', '60', 'where', 'quite', 'office', '72.', '98', 'evening', '137', 'next', 'shed', 'dismal', 'bounding', 'obtaining', 'gray', 'modification', 'gently', 'bloom', '77.', 'charles', 'west', 'instinct', '140', 'crying', 'precipice', 'banks', 'forever', 'dreary', 'courage', 'worst', 'whipping', 'commission', 'heard', 'an', 'kettledrum', 'meddle', 'asleep', 'pet', 'disclaimer', 'mend', 'codes', 'thy', 'chain', 'seized', 'finding', 'sleeve', 'literary', 'reaching', 'processing', 'ruin', '90', 'which', 'uneasy', 'dirty', 'women', '5.', 'exercises', 'mud', 'scouted', 'prized', 'rock', 'liv', '@', 'beggar', 'silently', 'keep', 'hedges', 'run', 'january', '95', 'feathers', '76.', 'strokes', 'south', 'follows', 'news', '202', 'york', 'possession', 'strict', 'piano', 'prevent', 'went', 'crow', 'mouth', 'accepting', '141', 'sells', 'cents', '135', 'replace', '2005', 'walk', 'checks', 'granted', 'puzzled', 'bits', 'drive', 'finishing', 'horribly', 'me', 'lasted', 'intense', 'dim', 'farmer', 'crust', 'annoy', 'approximated', 'loving', 'forsake', 'mississippi', 'displayed', 'uniform', 'present', '78', 'closet', 'lame', 'lighting', 'fields', 'ripened', 'kept', 'straying', 'father', 'happiness', '4557', 'robins', 'tapped', 'tops', 'exhibitions', 'dr.', 'creature', 'grayish', 'sending', 'revised', 'alarmed', 'poorly-dressed', 'breach', 'smith', 'season', 'mules', 'change', 'trifling', 'pronounce', 'foe', 'creep', 'nature', 'few', 'tauntingly', 'x.', 'road', 'reports', 'catching', 'steep', 'indeed', 'rod', 'drawing', 'chestnut-colored', 'hesitation', 'became', 'blacksmith', 'instead', 'foolish', 'lowing', 'tick', 'exclaimed', 'see', 'shavings', 'rules', 'hammer', 'eternity', 'traveler', 'lately', 'losing', 'tale', 'shineth', '119', 'leaf', 'unimpaired', 'pussy', 'shrubs', 'hoop', 'loved', ']', '!', 'wink', 'pigs', 'effort', 'out', 'freely', 'falsely', 'notice', 'live', 'chilling', 'burn', 'pasture', 'separated', 'anywhere', 'legal', 'fruit', 'xxii', 'ray', 'extent', 'contemporary', 'springing', '3.10', 'fancied', 'pay', '18.', 'knitting', 'promised', 'taylor', '144', 'shining', 'hart', 'carefully', 'knocks', 'subscribe', 'trembling', 'apiece', 'bed', 'trouble', 'rolls', 'defer', 'susan', 'abide'}\n"
     ]
    }
   ],
   "source": [
    "example_long_word_vocab = set(getNLKTText(text1_url))\n",
    "print(example_long_word_vocab)"
   ]
  },
  {
   "source": [
    "### Normalizing Text - Convert to Lowercase\n",
    "\n",
    "We will first normalize the entire corpora text by normalizing all text to the lower-case format. This is important so that cases where the same word with varying levels of capitalization is removed (ex. \"The\" vs \"the\") which will as a result, provide greater vocab_size accuracy. This will be applied to our original getRaw function that will take raw text and then apply a lower() function.\n",
    "\n",
    "<code>\n",
    "def getRaw(text):\n",
    "    url = text\n",
    "    response = request.urlopen(url)\n",
    "    raw = response.read().decode('utf8')\n",
    "    normalized_text = raw.lower()\n",
    "    raw_character_count = len(raw)\n",
    "    return raw, raw_character_count, normalized_text </code>"
   ],
   "cell_type": "markdown",
   "metadata": {}
  },
  {
   "cell_type": "markdown",
   "metadata": {},
   "source": [
    "### Normalizing Text Vocabulary Size\n",
    "\n",
    "To extract the vocabulary size, we will resort back to the second argument of the prior predefined function **lexical_diversity_total** which gives us the vocabulary size. Using the vocabulary_size, we will normalize them on a minmax scale. Finally once normalized, we will add it back to the overall summary dataframe (lexical_summary_df)."
   ]
  },
  {
   "cell_type": "code",
   "execution_count": 28,
   "metadata": {},
   "outputs": [
    {
     "output_type": "stream",
     "name": "stdout",
     "text": [
      "[[37398, 4148, 0.1109150221937002], [125052, 12442, 0.09949461024213926], [128400, 11939, 0.09298286604361371]]\n\n\n[[ 37398.           4148.              0.11091502]\n [125052.          12442.              0.09949461]\n [128400.          11939.              0.09298287]]\n\n\n[ 4148. 12442. 11939.]\n\n\n[0.         0.99999994 0.93935376]\n----------------------------------------------------------------------------------------------------\n   long_vocab_size_normalized\n0                    0.000000\n1                    1.000000\n2                    0.939354\n----------------------------------------------------------------------------------------------------\n                          book_title  raw_word_count  tokenized_word_count  \\\n0   McGuffey's Third Eclectic Reader          168159                 37398   \n1   McGuffey's Fifth Eclectic Reader          605278                125052   \n2  The Literary World Seventh Reader          621668                128400   \n\n   vocab_size  diversity_score  long_vocab_size_normalized  \n0        4148         0.110915                    0.000000  \n1       12442         0.099495                    1.000000  \n2       11939         0.092983                    0.939354  \n"
     ]
    }
   ],
   "source": [
    "# original list storing word_count, vocab_size, diversity_score\n",
    "lexical_diversity_total\n",
    "print(lexical_diversity_total)\n",
    "print('\\n')\n",
    "\n",
    "# convert list to numpy array to slice\n",
    "np.set_printoptions(suppress=True)\n",
    "lexical_diversity_total_np = np.asarray(lexical_diversity_total,dtype=np.float32)\n",
    "print(lexical_diversity_total_np)\n",
    "print('\\n')\n",
    "\n",
    "# selecting only vocab_size index\n",
    "print(lexical_diversity_total_np[:,1])\n",
    "print('\\n')\n",
    "\n",
    "# normalizing the vocab_size \n",
    "vocab_size_norm = minmax_scale(lexical_diversity_total_np[:,1], feature_range=(0,1), axis=0)\n",
    "print(vocab_size_norm)\n",
    "print('-'*100)\n",
    "# convert to df\n",
    "vocab_size_df = pd.DataFrame(vocab_size_norm, columns=['long_vocab_size_normalized'])\n",
    "print(vocab_size_df)\n",
    "print('-'*100)\n",
    "# join back to summary_df\n",
    "lexical_summary_df = pd.concat([lexical_summary_df, vocab_size_df],axis=1)\n",
    "print(lexical_summary_df)"
   ]
  },
  {
   "cell_type": "markdown",
   "metadata": {},
   "source": [
    "### Creating “text difficulty score”\n",
    "\n",
    "To create a text difficulty score, we will average the long-word vocabulary size (vocab_size), the diversity_score and lastly our normalized long_vocab_size. "
   ]
  },
  {
   "cell_type": "code",
   "execution_count": 29,
   "metadata": {},
   "outputs": [
    {
     "output_type": "stream",
     "name": "stdout",
     "text": [
      "                          book_title  raw_word_count  tokenized_word_count  \\\n0   McGuffey's Third Eclectic Reader          168159                 37398   \n1   McGuffey's Fifth Eclectic Reader          605278                125052   \n2  The Literary World Seventh Reader          621668                128400   \n\n   vocab_size  diversity_score  long_vocab_size_normalized  \\\n0        4148         0.110915                    0.000000   \n1       12442         0.099495                    1.000000   \n2       11939         0.092983                    0.939354   \n\n   text_difficulty_score  \n0            1382.703638  \n1            4147.699832  \n2            3980.010779  \n"
     ]
    }
   ],
   "source": [
    "avg_cols = ['vocab_size', 'diversity_score', 'long_vocab_size_normalized']\n",
    "lexical_summary_df['text_difficulty_score'] = lexical_summary_df[avg_cols].astype(float).mean(axis=1)\n",
    "print(lexical_summary_df)"
   ]
  },
  {
   "cell_type": "code",
   "execution_count": 30,
   "metadata": {},
   "outputs": [
    {
     "output_type": "execute_result",
     "data": {
      "text/plain": [
       "0.999999999999682"
      ]
     },
     "metadata": {},
     "execution_count": 30
    }
   ],
   "source": [
    "lexical_summary_df['vocab_size'].corr(lexical_summary_df['text_difficulty_score'])"
   ]
  },
  {
   "cell_type": "markdown",
   "metadata": {},
   "source": [
    "We can see that our hypothesis from using only either diversity_score or vocab_size as a measure of evaluating text difficulty was correct in that combining these attributes together provides a much clearer picture on measuring the difficulty of text. We can see that alone, the normalized version of our vocab_size shows us how insignificant 3rd grade vocab_size is compared to it's 5th and 7th grade counterparts. However as stated prior, the diversity_score shows us that though the vocab_size of 3rd grade text is significantly smaller, it's diversity_score is higher meaning that though the text is low in vocab_size it is rich word uniquness. Holistically, we can evaluate the overall difficulty of the text by seeing that 5th grade text is most difficult in terms of the amount of words used as well as the uniquness of those words.  "
   ]
  }
 ],
 "metadata": {
  "kernelspec": {
   "name": "python385jvsc74a57bd03e05b179a6f1b3d43dc78f183e30163ca03b692d154be2549bbe3fabbd792f43",
   "display_name": "Python 3.8.5 64-bit ('base': conda)"
  },
  "language_info": {
   "codemirror_mode": {
    "name": "ipython",
    "version": 3
   },
   "file_extension": ".py",
   "mimetype": "text/x-python",
   "name": "python",
   "nbconvert_exporter": "python",
   "pygments_lexer": "ipython3",
   "version": "3.8.5"
  }
 },
 "nbformat": 4,
 "nbformat_minor": 4
}